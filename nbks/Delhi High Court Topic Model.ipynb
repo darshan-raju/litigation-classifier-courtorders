{
 "cells": [
  {
   "cell_type": "code",
   "execution_count": null,
   "metadata": {},
   "outputs": [],
   "source": [
    "from plotly import tools\n",
    "import plotly.plotly as py\n",
    "from plotly.offline import init_notebook_mode, iplot\n",
    "init_notebook_mode(connected=True)\n",
    "import plotly.graph_objs as go\n",
    "import plotly.figure_factory as ff"
   ]
  },
  {
   "cell_type": "code",
   "execution_count": 9,
   "metadata": {},
   "outputs": [],
   "source": [
    "# Usual imports\n",
    "import numpy as np\n",
    "import pandas as pd\n",
    "from tqdm import tqdm\n",
    "import string\n",
    "import matplotlib.pyplot as plt\n",
    "from sklearn.decomposition import NMF, LatentDirichletAllocation, TruncatedSVD\n",
    "from sklearn.feature_extraction.text import CountVectorizer\n",
    "from sklearn.manifold import TSNE\n",
    "import concurrent.futures\n",
    "import time\n",
    "import pyLDAvis.sklearn\n",
    "from pylab import bone, pcolor, colorbar, plot, show, rcParams, savefig\n",
    "import warnings\n",
    "warnings.filterwarnings('ignore')\n",
    "\n",
    "%matplotlib inline\n",
    "import os\n",
    "\n",
    "import sys\n",
    "sys.path.append(\"..\")\n",
    "from src.utils import load_env, load_table\n",
    "\n",
    "# spaCy based imports\n",
    "import spacy\n",
    "from spacy.lang.en.stop_words import STOP_WORDS\n",
    "from spacy.lang.en import English"
   ]
  },
  {
   "cell_type": "code",
   "execution_count": 50,
   "metadata": {},
   "outputs": [
    {
     "name": "stdout",
     "output_type": "stream",
     "text": [
      "2020-05-14 08:28:30,226 - src.utils - INFO - Loaded 0 rows of dl_hc_orders.orders\n",
      "2020-05-14 08:28:30,367 - src.utils - INFO - Loaded 10000 rows of dl_hc_orders.orders\n",
      "2020-05-14 08:28:30,504 - src.utils - INFO - Loaded 20000 rows of dl_hc_orders.orders\n",
      "2020-05-14 08:28:30,640 - src.utils - INFO - Loaded 30000 rows of dl_hc_orders.orders\n",
      "2020-05-14 08:28:30,783 - src.utils - INFO - Loaded 40000 rows of dl_hc_orders.orders\n",
      "2020-05-14 08:28:30,934 - src.utils - INFO - Loaded 50000 rows of dl_hc_orders.orders\n",
      "2020-05-14 08:28:31,072 - src.utils - INFO - Loaded 60000 rows of dl_hc_orders.orders\n",
      "2020-05-14 08:28:31,210 - src.utils - INFO - Loaded 70000 rows of dl_hc_orders.orders\n",
      "2020-05-14 08:28:31,357 - src.utils - INFO - Loaded 80000 rows of dl_hc_orders.orders\n",
      "2020-05-14 08:28:31,504 - src.utils - INFO - Loaded 90000 rows of dl_hc_orders.orders\n",
      "2020-05-14 08:28:31,561 - src.utils - INFO - Number of nan values: 0\n"
     ]
    }
   ],
   "source": [
    "env = load_env(\"../local.env\")\n",
    "df = load_table(env, \"dl_hc_orders.orders\", \"pdf_text\", limit=10**5, print_every=10**4)"
   ]
  },
  {
   "cell_type": "code",
   "execution_count": 24,
   "metadata": {},
   "outputs": [
    {
     "data": {
      "text/html": [
       "<div>\n",
       "<style scoped>\n",
       "    .dataframe tbody tr th:only-of-type {\n",
       "        vertical-align: middle;\n",
       "    }\n",
       "\n",
       "    .dataframe tbody tr th {\n",
       "        vertical-align: top;\n",
       "    }\n",
       "\n",
       "    .dataframe thead th {\n",
       "        text-align: right;\n",
       "    }\n",
       "</style>\n",
       "<table border=\"1\" class=\"dataframe\">\n",
       "  <thead>\n",
       "    <tr style=\"text-align: right;\">\n",
       "      <th></th>\n",
       "      <th>string</th>\n",
       "      <th>id</th>\n",
       "    </tr>\n",
       "  </thead>\n",
       "  <tbody>\n",
       "    <tr>\n",
       "      <th>0</th>\n",
       "      <td>In The High Court Of Delhi At New Delhi Cs(Os)...</td>\n",
       "      <td>0</td>\n",
       "    </tr>\n",
       "    <tr>\n",
       "      <th>1</th>\n",
       "      <td>In The High Court Of Delhi At New Delhi Cs(Os)...</td>\n",
       "      <td>1</td>\n",
       "    </tr>\n",
       "    <tr>\n",
       "      <th>2</th>\n",
       "      <td>$~22 * In The High Court Of Delhi At New Delhi...</td>\n",
       "      <td>2</td>\n",
       "    </tr>\n",
       "    <tr>\n",
       "      <th>3</th>\n",
       "      <td>$~39 * + Larsen &amp; Toubro Limited &amp; Anr In The ...</td>\n",
       "      <td>3</td>\n",
       "    </tr>\n",
       "    <tr>\n",
       "      <th>4</th>\n",
       "      <td>In The High Court Of Delhi At New Delhi 10.08....</td>\n",
       "      <td>4</td>\n",
       "    </tr>\n",
       "  </tbody>\n",
       "</table>\n",
       "</div>"
      ],
      "text/plain": [
       "                                              string  id\n",
       "0  In The High Court Of Delhi At New Delhi Cs(Os)...   0\n",
       "1  In The High Court Of Delhi At New Delhi Cs(Os)...   1\n",
       "2  $~22 * In The High Court Of Delhi At New Delhi...   2\n",
       "3  $~39 * + Larsen & Toubro Limited & Anr In The ...   3\n",
       "4  In The High Court Of Delhi At New Delhi 10.08....   4"
      ]
     },
     "execution_count": 24,
     "metadata": {},
     "output_type": "execute_result"
    }
   ],
   "source": [
    "df.head()"
   ]
  },
  {
   "cell_type": "code",
   "execution_count": 25,
   "metadata": {},
   "outputs": [],
   "source": [
    "punctuations = string.punctuation\n",
    "stopwords = list(STOP_WORDS)\n",
    "nlp = spacy.load('en_core_web_lg')"
   ]
  },
  {
   "cell_type": "code",
   "execution_count": 26,
   "metadata": {},
   "outputs": [
    {
     "data": {
      "text/html": [
       "<span class=\"tex2jax_ignore\"><div class=\"entities\" style=\"line-height: 2.5; direction: ltr\">$~39 * + \n",
       "<mark class=\"entity\" style=\"background: #7aecec; padding: 0.45em 0.6em; margin: 0 0.25em; line-height: 1; border-radius: 0.35em;\">\n",
       "    Larsen &amp; Toubro Limited &amp; Anr\n",
       "    <span style=\"font-size: 0.8em; font-weight: bold; line-height: 1; border-radius: 0.35em; text-transform: uppercase; vertical-align: middle; margin-left: 0.5rem\">ORG</span>\n",
       "</mark>\n",
       " In The High Court Of Delhi At New Delhi W.P.(C) 2157/2015 Through : Mr \n",
       "<mark class=\"entity\" style=\"background: #aa9cfc; padding: 0.45em 0.6em; margin: 0 0.25em; line-height: 1; border-radius: 0.35em;\">\n",
       "    Rajeev Mishra\n",
       "    <span style=\"font-size: 0.8em; font-weight: bold; line-height: 1; border-radius: 0.35em; text-transform: uppercase; vertical-align: middle; margin-left: 0.5rem\">PERSON</span>\n",
       "</mark>\n",
       " ..... Petitioners Versus Commissioner Of Value Added Tax &amp; Anr Through : Mr \n",
       "<mark class=\"entity\" style=\"background: #aa9cfc; padding: 0.45em 0.6em; margin: 0 0.25em; line-height: 1; border-radius: 0.35em;\">\n",
       "    Rajesh Mahana\n",
       "    <span style=\"font-size: 0.8em; font-weight: bold; line-height: 1; border-radius: 0.35em; text-transform: uppercase; vertical-align: middle; margin-left: 0.5rem\">PERSON</span>\n",
       "</mark>\n",
       " ..... Respondents Coram: HonBle Mr. Justice \n",
       "<mark class=\"entity\" style=\"background: #aa9cfc; padding: 0.45em 0.6em; margin: 0 0.25em; line-height: 1; border-radius: 0.35em;\">\n",
       "    Badar Durrez Ahmed\n",
       "    <span style=\"font-size: 0.8em; font-weight: bold; line-height: 1; border-radius: 0.35em; text-transform: uppercase; vertical-align: middle; margin-left: 0.5rem\">PERSON</span>\n",
       "</mark>\n",
       " HonBle Mr. Justice \n",
       "<mark class=\"entity\" style=\"background: #aa9cfc; padding: 0.45em 0.6em; margin: 0 0.25em; line-height: 1; border-radius: 0.35em;\">\n",
       "    Sanjeev Sachdeva\n",
       "    <span style=\"font-size: 0.8em; font-weight: bold; line-height: 1; border-radius: 0.35em; text-transform: uppercase; vertical-align: middle; margin-left: 0.5rem\">PERSON</span>\n",
       "</mark>\n",
       " % Cm 3874/2015 O R D E R 04.03.2015 Allowed Subject To All Just Exceptions. Wp(C) 2157/2015 &amp; Cm 3873/2015 Issue Notice. Notice Is Accepted By The Learned Counsel Appearing On Behalf Of The Respondents. \n",
       "<mark class=\"entity\" style=\"background: #ff8197; padding: 0.45em 0.6em; margin: 0 0.25em; line-height: 1; border-radius: 0.35em;\">\n",
       "    The Counter-Affidavits Be Filed Within\n",
       "    <span style=\"font-size: 0.8em; font-weight: bold; line-height: 1; border-radius: 0.35em; text-transform: uppercase; vertical-align: middle; margin-left: 0.5rem\">LAW</span>\n",
       "</mark>\n",
       " \n",
       "<mark class=\"entity\" style=\"background: #bfe1d9; padding: 0.45em 0.6em; margin: 0 0.25em; line-height: 1; border-radius: 0.35em;\">\n",
       "    Six Weeks\n",
       "    <span style=\"font-size: 0.8em; font-weight: bold; line-height: 1; border-radius: 0.35em; text-transform: uppercase; vertical-align: middle; margin-left: 0.5rem\">DATE</span>\n",
       "</mark>\n",
       ". The Rejoinder Affidavits, If Necessary, Be Filed Within \n",
       "<mark class=\"entity\" style=\"background: #bfe1d9; padding: 0.45em 0.6em; margin: 0 0.25em; line-height: 1; border-radius: 0.35em;\">\n",
       "    Two Weeks Thereafter\n",
       "    <span style=\"font-size: 0.8em; font-weight: bold; line-height: 1; border-radius: 0.35em; text-transform: uppercase; vertical-align: middle; margin-left: 0.5rem\">DATE</span>\n",
       "</mark>\n",
       ". \n",
       "<mark class=\"entity\" style=\"background: #aa9cfc; padding: 0.45em 0.6em; margin: 0 0.25em; line-height: 1; border-radius: 0.35em;\">\n",
       "    Renotify\n",
       "    <span style=\"font-size: 0.8em; font-weight: bold; line-height: 1; border-radius: 0.35em; text-transform: uppercase; vertical-align: middle; margin-left: 0.5rem\">PERSON</span>\n",
       "</mark>\n",
       " On 24.04.2015. In The Meanwhile, There Shall Be Stay Of The Penalty Order Dated 08.12.2014. Dasti. \n",
       "<mark class=\"entity\" style=\"background: #aa9cfc; padding: 0.45em 0.6em; margin: 0 0.25em; line-height: 1; border-radius: 0.35em;\">\n",
       "    Badar Durrez Ahmed\n",
       "    <span style=\"font-size: 0.8em; font-weight: bold; line-height: 1; border-radius: 0.35em; text-transform: uppercase; vertical-align: middle; margin-left: 0.5rem\">PERSON</span>\n",
       "</mark>\n",
       ", \n",
       "<mark class=\"entity\" style=\"background: #bfe1d9; padding: 0.45em 0.6em; margin: 0 0.25em; line-height: 1; border-radius: 0.35em;\">\n",
       "    J March 04, 2015\n",
       "    <span style=\"font-size: 0.8em; font-weight: bold; line-height: 1; border-radius: 0.35em; text-transform: uppercase; vertical-align: middle; margin-left: 0.5rem\">DATE</span>\n",
       "</mark>\n",
       " \n",
       "<mark class=\"entity\" style=\"background: #aa9cfc; padding: 0.45em 0.6em; margin: 0 0.25em; line-height: 1; border-radius: 0.35em;\">\n",
       "    Sr Sanjeev Sachdeva\n",
       "    <span style=\"font-size: 0.8em; font-weight: bold; line-height: 1; border-radius: 0.35em; text-transform: uppercase; vertical-align: middle; margin-left: 0.5rem\">PERSON</span>\n",
       "</mark>\n",
       ", J</div></span>"
      ],
      "text/plain": [
       "<IPython.core.display.HTML object>"
      ]
     },
     "metadata": {},
     "output_type": "display_data"
    }
   ],
   "source": [
    "doc = nlp(df[\"string\"][3])\n",
    "spacy.displacy.render(doc, style='ent',jupyter=True)"
   ]
  },
  {
   "cell_type": "code",
   "execution_count": 27,
   "metadata": {},
   "outputs": [
    {
     "data": {
      "text/html": [
       "<span class=\"tex2jax_ignore\"><div class=\"entities\" style=\"line-height: 2.5; direction: ltr\">$ ~39 * + \n",
       "<mark class=\"entity\" style=\"background: #7aecec; padding: 0.45em 0.6em; margin: 0 0.25em; line-height: 1; border-radius: 0.35em;\">\n",
       "    Larsen &amp; Toubro Limited &amp; Anr\n",
       "    <span style=\"font-size: 0.8em; font-weight: bold; line-height: 1; border-radius: 0.35em; text-transform: uppercase; vertical-align: middle; margin-left: 0.5rem\">ORG</span>\n",
       "</mark>\n",
       " in \n",
       "<mark class=\"entity\" style=\"background: #feca74; padding: 0.45em 0.6em; margin: 0 0.25em; line-height: 1; border-radius: 0.35em;\">\n",
       "    the High Court\n",
       "    <span style=\"font-size: 0.8em; font-weight: bold; line-height: 1; border-radius: 0.35em; text-transform: uppercase; vertical-align: middle; margin-left: 0.5rem\">GPE</span>\n",
       "</mark>\n",
       " of Delhi at \n",
       "<mark class=\"entity\" style=\"background: #feca74; padding: 0.45em 0.6em; margin: 0 0.25em; line-height: 1; border-radius: 0.35em;\">\n",
       "    New Delhi\n",
       "    <span style=\"font-size: 0.8em; font-weight: bold; line-height: 1; border-radius: 0.35em; text-transform: uppercase; vertical-align: middle; margin-left: 0.5rem\">GPE</span>\n",
       "</mark>\n",
       " W.P.(C ) 2157/2015 through : Mr \n",
       "<mark class=\"entity\" style=\"background: #aa9cfc; padding: 0.45em 0.6em; margin: 0 0.25em; line-height: 1; border-radius: 0.35em;\">\n",
       "    Rajeev Mishra\n",
       "    <span style=\"font-size: 0.8em; font-weight: bold; line-height: 1; border-radius: 0.35em; text-transform: uppercase; vertical-align: middle; margin-left: 0.5rem\">PERSON</span>\n",
       "</mark>\n",
       " ..... Petitioners Versus Commissioner of Value Added Tax &amp; Anr through : Mr \n",
       "<mark class=\"entity\" style=\"background: #aa9cfc; padding: 0.45em 0.6em; margin: 0 0.25em; line-height: 1; border-radius: 0.35em;\">\n",
       "    Rajesh Mahana\n",
       "    <span style=\"font-size: 0.8em; font-weight: bold; line-height: 1; border-radius: 0.35em; text-transform: uppercase; vertical-align: middle; margin-left: 0.5rem\">PERSON</span>\n",
       "</mark>\n",
       " ..... respondent Coram : HonBle Mr. Justice \n",
       "<mark class=\"entity\" style=\"background: #aa9cfc; padding: 0.45em 0.6em; margin: 0 0.25em; line-height: 1; border-radius: 0.35em;\">\n",
       "    Badar Durrez Ahmed\n",
       "    <span style=\"font-size: 0.8em; font-weight: bold; line-height: 1; border-radius: 0.35em; text-transform: uppercase; vertical-align: middle; margin-left: 0.5rem\">PERSON</span>\n",
       "</mark>\n",
       " HonBle Mr. Justice \n",
       "<mark class=\"entity\" style=\"background: #aa9cfc; padding: 0.45em 0.6em; margin: 0 0.25em; line-height: 1; border-radius: 0.35em;\">\n",
       "    Sanjeev Sachdeva\n",
       "    <span style=\"font-size: 0.8em; font-weight: bold; line-height: 1; border-radius: 0.35em; text-transform: uppercase; vertical-align: middle; margin-left: 0.5rem\">PERSON</span>\n",
       "</mark>\n",
       " % cm 3874/2015 o r d e r 04.03.2015 allow subject to all just Exceptions . Wp(C ) 2157/2015 &amp; Cm 3873/2015 issue notice . notice be accept by the learn Counsel appear on Behalf of the respondent . the \n",
       "<mark class=\"entity\" style=\"background: #7aecec; padding: 0.45em 0.6em; margin: 0 0.25em; line-height: 1; border-radius: 0.35em;\">\n",
       "    Counter\n",
       "    <span style=\"font-size: 0.8em; font-weight: bold; line-height: 1; border-radius: 0.35em; text-transform: uppercase; vertical-align: middle; margin-left: 0.5rem\">ORG</span>\n",
       "</mark>\n",
       " - affidavit be file within \n",
       "<mark class=\"entity\" style=\"background: #bfe1d9; padding: 0.45em 0.6em; margin: 0 0.25em; line-height: 1; border-radius: 0.35em;\">\n",
       "    six week\n",
       "    <span style=\"font-size: 0.8em; font-weight: bold; line-height: 1; border-radius: 0.35em; text-transform: uppercase; vertical-align: middle; margin-left: 0.5rem\">DATE</span>\n",
       "</mark>\n",
       " . the rejoinder affidavit , if necessary , be file within \n",
       "<mark class=\"entity\" style=\"background: #bfe1d9; padding: 0.45em 0.6em; margin: 0 0.25em; line-height: 1; border-radius: 0.35em;\">\n",
       "    two week\n",
       "    <span style=\"font-size: 0.8em; font-weight: bold; line-height: 1; border-radius: 0.35em; text-transform: uppercase; vertical-align: middle; margin-left: 0.5rem\">DATE</span>\n",
       "</mark>\n",
       " thereafter . \n",
       "<mark class=\"entity\" style=\"background: #aa9cfc; padding: 0.45em 0.6em; margin: 0 0.25em; line-height: 1; border-radius: 0.35em;\">\n",
       "    renotify\n",
       "    <span style=\"font-size: 0.8em; font-weight: bold; line-height: 1; border-radius: 0.35em; text-transform: uppercase; vertical-align: middle; margin-left: 0.5rem\">PERSON</span>\n",
       "</mark>\n",
       " on \n",
       "<mark class=\"entity\" style=\"background: #e4e7d2; padding: 0.45em 0.6em; margin: 0 0.25em; line-height: 1; border-radius: 0.35em;\">\n",
       "    24.04.2015\n",
       "    <span style=\"font-size: 0.8em; font-weight: bold; line-height: 1; border-radius: 0.35em; text-transform: uppercase; vertical-align: middle; margin-left: 0.5rem\">CARDINAL</span>\n",
       "</mark>\n",
       " . in the meanwhile , there Shall be stay of the penalty order date 08.12.2014 . Dasti . \n",
       "<mark class=\"entity\" style=\"background: #aa9cfc; padding: 0.45em 0.6em; margin: 0 0.25em; line-height: 1; border-radius: 0.35em;\">\n",
       "    Badar Durrez Ahmed\n",
       "    <span style=\"font-size: 0.8em; font-weight: bold; line-height: 1; border-radius: 0.35em; text-transform: uppercase; vertical-align: middle; margin-left: 0.5rem\">PERSON</span>\n",
       "</mark>\n",
       " , \n",
       "<mark class=\"entity\" style=\"background: #bfe1d9; padding: 0.45em 0.6em; margin: 0 0.25em; line-height: 1; border-radius: 0.35em;\">\n",
       "    J March 04 , 2015\n",
       "    <span style=\"font-size: 0.8em; font-weight: bold; line-height: 1; border-radius: 0.35em; text-transform: uppercase; vertical-align: middle; margin-left: 0.5rem\">DATE</span>\n",
       "</mark>\n",
       " \n",
       "<mark class=\"entity\" style=\"background: #aa9cfc; padding: 0.45em 0.6em; margin: 0 0.25em; line-height: 1; border-radius: 0.35em;\">\n",
       "    Sr Sanjeev Sachdeva\n",
       "    <span style=\"font-size: 0.8em; font-weight: bold; line-height: 1; border-radius: 0.35em; text-transform: uppercase; vertical-align: middle; margin-left: 0.5rem\">PERSON</span>\n",
       "</mark>\n",
       " , J</div></span>"
      ],
      "text/plain": [
       "<IPython.core.display.HTML object>"
      ]
     },
     "metadata": {},
     "output_type": "display_data"
    }
   ],
   "source": [
    "review = str(\" \".join([i.lemma_ for i in doc]))\n",
    "doc = nlp(review)\n",
    "spacy.displacy.render(doc, style='ent',jupyter=True)"
   ]
  },
  {
   "cell_type": "code",
   "execution_count": 51,
   "metadata": {},
   "outputs": [],
   "source": [
    "parser = English()\n",
    "def spacy_tokenizer(sentence):\n",
    "    mytokens = parser(sentence)\n",
    "    mytokens = [ word.lemma_.lower().strip() if word.lemma_ != \"-PRON-\" else word.lower_ for word in mytokens ]\n",
    "    mytokens = [ word for word in mytokens if word not in stopwords and word not in punctuations ]\n",
    "    mytokens = \" \".join([i for i in mytokens])\n",
    "    return mytokens"
   ]
  },
  {
   "cell_type": "code",
   "execution_count": 52,
   "metadata": {},
   "outputs": [
    {
     "name": "stderr",
     "output_type": "stream",
     "text": [
      "100%|██████████| 100000/100000 [01:55<00:00, 866.93it/s]\n"
     ]
    }
   ],
   "source": [
    "tqdm.pandas()\n",
    "df[\"processed_string\"] = df[\"string\"].progress_apply(spacy_tokenizer)"
   ]
  },
  {
   "cell_type": "code",
   "execution_count": 53,
   "metadata": {},
   "outputs": [],
   "source": [
    "# Creating a vectorizer\n",
    "vectorizer = CountVectorizer(min_df=5, max_df=0.9, stop_words='english', lowercase=True, token_pattern='[a-zA-Z\\-][a-zA-Z\\-]{2,}')\n",
    "data_vectorized = vectorizer.fit_transform(df[\"processed_string\"])"
   ]
  },
  {
   "cell_type": "code",
   "execution_count": 63,
   "metadata": {},
   "outputs": [],
   "source": [
    "NUM_TOPICS = 5"
   ]
  },
  {
   "cell_type": "code",
   "execution_count": 64,
   "metadata": {},
   "outputs": [
    {
     "name": "stdout",
     "output_type": "stream",
     "text": [
      "iteration: 1 of max_iter: 10\n",
      "iteration: 2 of max_iter: 10\n",
      "iteration: 3 of max_iter: 10\n",
      "iteration: 4 of max_iter: 10\n",
      "iteration: 5 of max_iter: 10\n",
      "iteration: 6 of max_iter: 10\n",
      "iteration: 7 of max_iter: 10\n",
      "iteration: 8 of max_iter: 10\n",
      "iteration: 9 of max_iter: 10\n",
      "iteration: 10 of max_iter: 10\n"
     ]
    }
   ],
   "source": [
    "# Latent Dirichlet Allocation Model\n",
    "lda = LatentDirichletAllocation(n_components=NUM_TOPICS, max_iter=10, learning_method='online',verbose=True)\n",
    "data_lda = lda.fit_transform(data_vectorized)"
   ]
  },
  {
   "cell_type": "code",
   "execution_count": 65,
   "metadata": {},
   "outputs": [],
   "source": [
    "# Non-Negative Matrix Factorization Model\n",
    "nmf = NMF(n_components=NUM_TOPICS)\n",
    "data_nmf = nmf.fit_transform(data_vectorized) "
   ]
  },
  {
   "cell_type": "code",
   "execution_count": 66,
   "metadata": {},
   "outputs": [],
   "source": [
    "# Latent Semantic Indexing Model using Truncated SVD\n",
    "lsi = TruncatedSVD(n_components=NUM_TOPICS)\n",
    "data_lsi = lsi.fit_transform(data_vectorized)"
   ]
  },
  {
   "cell_type": "code",
   "execution_count": 67,
   "metadata": {},
   "outputs": [],
   "source": [
    "# Functions for printing keywords for each topic\n",
    "def selected_topics(model, vectorizer, top_n=10):\n",
    "    for idx, topic in enumerate(model.components_):\n",
    "        print(\"Topic %d:\" % (idx))\n",
    "        print([(vectorizer.get_feature_names()[i], topic[i])\n",
    "                        for i in topic.argsort()[:-top_n - 1:-1]]) "
   ]
  },
  {
   "cell_type": "code",
   "execution_count": 68,
   "metadata": {},
   "outputs": [
    {
     "name": "stdout",
     "output_type": "stream",
     "text": [
      "LDA Model:\n",
      "Topic 0:\n",
      "[('justice', 57408.77018812542), ('honble', 50068.97896172454), ('versus', 46405.24064261523), ('coram', 40448.939381207565), ('adv', 32408.391559389147), ('advocate', 28938.07842627948), ('ors', 22573.57291369387), ('september', 20519.14958527128), ('singh', 18930.263843359124), ('respondents', 16730.722504049543)]\n",
      "Topic 1:\n",
      "[('petitioner', 33676.647730383964), ('order', 23672.982459525916), ('petition', 21316.26479801796), ('dated', 19021.652199899334), ('learned', 16307.283426707067), ('application', 15556.102353506742), ('counsel', 13285.644819812313), ('shall', 12163.819332320458), ('respondent', 11697.607793431527), ('parties', 10503.599972711736)]\n",
      "Topic 2:\n",
      "[('respondent', 46266.51550333638), ('counsel', 44580.15930544465), ('petitioner', 44179.0800276173), ('advocate', 31109.79962305498), ('present', 27798.92953099665), ('filed', 21715.663939776616), ('learned', 19082.931525337284), ('weeks', 16437.677748447717), ('list', 15919.285811343036), ('file', 13699.041501586933)]\n",
      "Topic 3:\n",
      "[('crl', 43837.7427519365), ('respondent', 38216.42209745412), ('appellant', 33148.75227502365), ('notice', 32895.8386398922), ('state', 30099.282993089604), ('app', 19094.156539868098), ('application', 17147.568831591612), ('petitioner', 16624.374070633545), ('respondents', 14687.086180853279), ('present', 14034.203750968376)]\n",
      "Topic 4:\n",
      "[('plaintiff', 44135.38596643948), ('defendant', 40052.677371558304), ('registrar', 29282.006109451082), ('joint', 26227.709995416903), ('counsel', 20966.227950441542), ('dhjs', 18358.438446982876), ('filed', 17881.08688605705), ('defendants', 15448.768749268094), ('judicial', 13419.899273327177), ('cpc', 12568.668482522282)]\n"
     ]
    }
   ],
   "source": [
    "# Keywords for topics clustered by Latent Dirichlet Allocation\n",
    "print(\"LDA Model:\")\n",
    "selected_topics(lda, vectorizer)"
   ]
  },
  {
   "cell_type": "code",
   "execution_count": 69,
   "metadata": {},
   "outputs": [
    {
     "name": "stdout",
     "output_type": "stream",
     "text": [
      "NMF Model:\n",
      "Topic 0:\n",
      "[('petitioner', 26.56995569636603), ('order', 6.947625375705595), ('petition', 6.2949266039593486), ('counsel', 5.107978192454125), ('dated', 4.869514297684798), ('learned', 4.709434258083243), ('respondent', 4.221769769866517), ('present', 3.5092597703041593), ('application', 3.092288721820296), ('said', 2.6455175949837524)]\n",
      "Topic 1:\n",
      "[('plaintiff', 12.892216778925937), ('defendant', 12.792275521024877), ('counsel', 7.118057728298815), ('filed', 5.901429273282107), ('joint', 4.866170845594627), ('registrar', 4.852483462151228), ('application', 4.262368660206288), ('defendants', 3.866109137803685), ('dhjs', 3.7480899538995063), ('documents', 3.6251634824453185)]\n",
      "Topic 2:\n",
      "[('respondent', 19.90246530815137), ('counsel', 7.166461862220928), ('advocate', 6.641493543962795), ('filed', 4.403242971456712), ('appellant', 4.063178454658431), ('notice', 3.3911217474339868), ('present', 2.8971688239158397), ('learned', 2.790555574360786), ('weeks', 2.6704344333213177), ('september', 2.2576987420908803)]\n",
      "Topic 3:\n",
      "[('versus', 10.47065612541993), ('respondents', 8.290218950991797), ('justice', 6.9062620986481935), ('adv', 6.060307973291887), ('honble', 6.058781150627808), ('anr', 5.895022455559484), ('pharmacy', 5.739787804626511), ('coram', 5.226621083728812), ('advocate', 5.212314598098953), ('india', 5.014335797951141)]\n",
      "Topic 4:\n",
      "[('crl', 13.732575909468274), ('state', 7.617370285344673), ('appellant', 6.902410433672473), ('app', 5.369189338031591), ('application', 4.552838410852555), ('justice', 4.034199650180486), ('honble', 3.619822912542184), ('coram', 2.6577952304254686), ('appeal', 2.515766993323189), ('learned', 2.4616437930483372)]\n"
     ]
    }
   ],
   "source": [
    "# Keywords for topics clustered by Latent Semantic Indexing\n",
    "print(\"NMF Model:\")\n",
    "selected_topics(nmf, vectorizer)"
   ]
  },
  {
   "cell_type": "code",
   "execution_count": 70,
   "metadata": {},
   "outputs": [
    {
     "name": "stdout",
     "output_type": "stream",
     "text": [
      "LSI Model:\n",
      "Topic 0:\n",
      "[('petitioner', 0.40599530564914643), ('respondent', 0.3451393555179713), ('counsel', 0.2831542608956604), ('versus', 0.18923636342291714), ('advocate', 0.18660439487718722), ('learned', 0.1721978281039284), ('filed', 0.16954651178992836), ('justice', 0.15793177232000669), ('order', 0.1523242662810161), ('respondents', 0.14879330756551276)]\n",
      "Topic 1:\n",
      "[('petitioner', 0.40704041438741606), ('respondent', 0.24330324827991714), ('respondents', 0.11894664422438074), ('pharmacy', 0.08178512112492474), ('crl', 0.07764651589838677), ('petition', 0.07111822085041049), ('justice', 0.05956753959548943), ('india', 0.05606287723637576), ('anr', 0.052106979106896045), ('council', 0.05019590095568996)]\n",
      "Topic 2:\n",
      "[('petitioner', 0.4847728858965246), ('order', 0.1932144382222651), ('petition', 0.14376208978559246), ('dated', 0.1290654339701133), ('present', 0.10591376690896535), ('application', 0.10281199508218712), ('said', 0.0868420230128064), ('learned', 0.0820379161699399), ('defendant', 0.0779041400458543), ('filed', 0.07516014857291876)]\n",
      "Topic 3:\n",
      "[('petitioner', 0.3054239119686773), ('pharmacy', 0.2736331170386536), ('versus', 0.26158978965299423), ('respondents', 0.21062783291322465), ('anr', 0.19656281106951978), ('india', 0.18949992541946578), ('adv', 0.1723428364619453), ('council', 0.16118336849633966), ('plaintiff', 0.1381388885525243), ('defendant', 0.13320081478116136)]\n",
      "Topic 4:\n",
      "[('crl', 0.4872925773808745), ('state', 0.2672013599602768), ('application', 0.17371236978991636), ('order', 0.17107046662382763), ('justice', 0.14679913401381228), ('app', 0.13609461717748683), ('honble', 0.13441331628798275), ('bail', 0.10343038242081772), ('petition', 0.09246808473716814), ('disposed', 0.08712955539257691)]\n"
     ]
    }
   ],
   "source": [
    "# Keywords for topics clustered by Non-Negative Matrix Factorization\n",
    "print(\"LSI Model:\")\n",
    "selected_topics(lsi, vectorizer)"
   ]
  },
  {
   "cell_type": "code",
   "execution_count": 71,
   "metadata": {},
   "outputs": [
    {
     "data": {
      "text/html": [
       "\n",
       "<link rel=\"stylesheet\" type=\"text/css\" href=\"https://cdn.rawgit.com/bmabey/pyLDAvis/files/ldavis.v1.0.0.css\">\n",
       "\n",
       "\n",
       "<div id=\"ldavis_el240271399165395921609368773724\"></div>\n",
       "<script type=\"text/javascript\">\n",
       "\n",
       "var ldavis_el240271399165395921609368773724_data = {\"mdsDat\": {\"x\": [150.22215270996094, 51.16336441040039, -73.1445541381836, -66.4101333618164, 54.41732406616211], \"y\": [-72.2695541381836, -159.968017578125, 21.523815155029297, -110.60643768310547, 12.44344425201416], \"topics\": [1, 2, 3, 4, 5], \"cluster\": [1, 1, 1, 1, 1], \"Freq\": [24.294249121093006, 20.473274874221534, 19.718616783501382, 18.668379222837448, 16.845479998346633]}, \"tinfo\": {\"Term\": [\"plaintiff\", \"defendant\", \"crl\", \"justice\", \"honble\", \"registrar\", \"joint\", \"respondent\", \"appellant\", \"versus\", \"state\", \"notice\", \"coram\", \"petitioner\", \"counsel\", \"dhjs\", \"app\", \"advocate\", \"adv\", \"defendants\", \"filed\", \"judicial\", \"petition\", \"present\", \"ors\", \"cpc\", \"application\", \"weeks\", \"dated\", \"documents\", \"aforesaid\", \"sum\", \"tribunal\", \"question\", \"years\", \"pay\", \"premises\", \"agreement\", \"complaint\", \"year\", \"civil\", \"entitled\", \"arbitrator\", \"disputes\", \"code\", \"action\", \"like\", \"letter\", \"basis\", \"dispute\", \"procedure\", \"bond\", \"raised\", \"claims\", \"electricity\", \"month\", \"notification\", \"decision\", \"undertaking\", \"satisfaction\", \"writ\", \"property\", \"months\", \"favour\", \"pursuant\", \"arbitration\", \"dated\", \"petition\", \"impugned\", \"fact\", \"view\", \"passed\", \"said\", \"act\", \"page\", \"fir\", \"circumstances\", \"payment\", \"terms\", \"case\", \"section\", \"proceedings\", \"order\", \"shall\", \"dismissed\", \"disposed\", \"accordingly\", \"petitioner\", \"law\", \"parties\", \"application\", \"learned\", \"company\", \"period\", \"directed\", \"petitioners\", \"counsel\", \"submits\", \"present\", \"respondent\", \"filed\", \"stands\", \"ravindra\", \"bhat\", \"suresh\", \"khanna\", \"bench\", \"ita\", \"mukul\", \"sanjiv\", \"mudgal\", \"tax\", \"kait\", \"income\", \"khetrapal\", \"lpa\", \"division\", \"endlaw\", \"sahai\", \"vibhu\", \"bakhru\", \"south\", \"aruna\", \"waziri\", \"najmi\", \"gnctd\", \"kameswar\", \"university\", \"item\", \"gauba\", \"asg\", \"council\", \"sanghi\", \"cgsc\", \"midha\", \"vipin\", \"advs\", \"master\", \"muralidhar\", \"union\", \"honble\", \"justice\", \"versus\", \"india\", \"ors\", \"coram\", \"advocates\", \"anr\", \"adv\", \"rajiv\", \"january\", \"manmohan\", \"singh\", \"advocate\", \"september\", \"respondents\", \"kumar\", \"list\", \"ble\", \"hon\", \"petitioner\", \"pvt\", \"respondent\", \"today\", \"order\", \"sharma\", \"petitioners\", \"appellant\", \"crl\", \"app\", \"rfa\", \"mac\", \"appellants\", \"appln\", \"pratibha\", \"sodhi\", \"bhasin\", \"sen\", \"chaggar\", \"vikramajit\", \"cbi\", \"rsa\", \"gita\", \"prosecutor\", \"requisitioned\", \"rajdipa\", \"behura\", \"sunita\", \"dudeja\", \"suspension\", \"ohri\", \"jasbir\", \"sangita\", \"roll\", \"nominal\", \"asi\", \"crp\", \"bhayana\", \"bail\", \"ordinary\", \"covers\", \"state\", \"rani\", \"returnable\", \"process\", \"speed\", \"notice\", \"appellant\", \"exemption\", \"accepts\", \"exceptions\", \"fee\", \"insurance\", \"issue\", \"indermeet\", \"rev\", \"service\", \"issued\", \"respondent\", \"allowed\", \"delay\", \"subject\", \"report\", \"application\", \"respondents\", \"appeal\", \"september\", \"present\", \"filing\", \"petitioner\", \"date\", \"advocate\", \"coram\", \"justice\", \"versus\", \"counsel\", \"honble\", \"behalf\", \"filed\", \"singh\", \"kumar\", \"counter\", \"siddharth\", \"mukta\", \"badar\", \"durrez\", \"hima\", \"mridul\", \"gambhir\", \"jayant\", \"lokur\", \"jyoti\", \"birbal\", \"synopsis\", \"veena\", \"swatanter\", \"ssn\", \"luthra\", \"vijender\", \"naresh\", \"arguing\", \"pages\", \"manisha\", \"yeeshu\", \"zubeda\", \"kailash\", \"rkb\", \"banerjee\", \"kashyap\", \"sdp\", \"rkr\", \"manju\", \"ahmed\", \"kohli\", \"mukundakam\", \"rejoinder\", \"continue\", \"adjournment\", \"malik\", \"adjourned\", \"thereto\", \"weeks\", \"affidavit\", \"reply\", \"august\", \"counsel\", \"file\", \"present\", \"respondent\", \"appearing\", \"petitioner\", \"advocate\", \"renotify\", \"request\", \"filed\", \"time\", \"learned\", \"list\", \"seeks\", \"sharma\", \"let\", \"march\", \"hearing\", \"date\", \"respondents\", \"behalf\", \"kumar\", \"september\", \"matter\", \"plaintiff\", \"defendant\", \"joint\", \"dhjs\", \"defendants\", \"judicial\", \"cpc\", \"admission\", \"denial\", \"plaintiffs\", \"cross\", \"examination\", \"neera\", \"summons\", \"replication\", \"pw-\", \"girish\", \"kathpalia\", \"plaint\", \"closed\", \"hemani\", \"jayachandra\", \"sec\", \"sisodia\", \"satinder\", \"savita\", \"ias\", \"pandit\", \"xxxix\", \"venugopal\", \"documents\", \"registrar\", \"witness\", \"written\", \"evidence\", \"witnesses\", \"completion\", \"statement\", \"rule\", \"pleadings\", \"bharihoke\", \"suit\", \"filed\", \"matter\", \"counsel\", \"original\", \"fixed\", \"adv\", \"file\", \"record\", \"application\", \"kumar\", \"weeks\", \"coram\", \"parties\", \"versus\", \"september\", \"date\", \"learned\", \"today\", \"order\", \"present\", \"singh\"], \"Freq\": [44798.0, 40654.0, 42973.0, 68030.0, 58049.0, 33916.0, 26622.0, 108752.0, 37736.0, 65086.0, 31022.0, 36416.0, 60323.0, 109788.0, 93454.0, 18634.0, 18718.0, 75659.0, 51175.0, 15681.0, 53669.0, 13622.0, 24855.0, 57181.0, 29609.0, 12758.0, 42419.0, 26400.0, 21884.0, 12518.0, 4766.496378693069, 3434.1155527743203, 2837.4299184162023, 2741.692994846637, 2595.0813373941487, 2437.793354614476, 2129.1802356023163, 2056.479961791127, 2008.7833989867918, 1999.4794576281413, 1798.8744039751894, 1764.34853650736, 1757.2499741487027, 1711.9993540599116, 1624.416526132934, 1577.9704486130083, 1529.7880154355742, 1499.15439476008, 1438.336208844807, 1426.0306815050526, 1386.643903509447, 1362.2872946313003, 1315.221206283437, 1270.9117910140224, 1276.114047956429, 1223.9269817048412, 1223.3448987655609, 1850.9915560899099, 1184.5771899355902, 1157.2586819196242, 6985.65858131084, 4412.597724687757, 2220.7689138007036, 1739.2735609300294, 1417.8590820567433, 1675.6558794074306, 18966.43969452284, 21254.39191902727, 3749.8525653506144, 3117.9818479532505, 8793.257654617773, 7384.024119257673, 8975.539564952927, 6408.790784402796, 7998.448674973966, 4269.759153452509, 2996.739573986376, 2659.8282681490277, 5775.514535875101, 10079.69759493103, 8542.677189484815, 5251.126905607506, 23604.268939922655, 12128.512465533775, 6457.079371080468, 9414.810037085223, 5777.959908877535, 33578.8974364381, 3638.5213190968184, 10473.112081130532, 15510.949000064877, 16259.949684905298, 3994.4124478897616, 4207.317874372388, 5733.799816291458, 6933.977104589042, 13247.081727167395, 5602.009573184491, 9484.035431257586, 11663.654158573752, 6551.574237542315, 4847.782317418161, 5835.902242906886, 5768.927896885208, 5112.646897267487, 4363.477825760784, 4237.920238069445, 4023.453029258926, 3526.802588026302, 3285.2024071358783, 3234.868359990028, 3054.301265663884, 2992.01430912057, 2886.096167300144, 2487.680456800346, 2394.584620415711, 2324.68346663594, 2184.8935772949635, 2168.034168051724, 2052.6970728521724, 1917.1077579704024, 1500.0308867863157, 1439.7610779779216, 1391.6494169586128, 1288.7032390455727, 1186.8514256077976, 1147.945087098569, 1165.5405139629574, 1152.63845985265, 1146.7252732550512, 1027.5713350105987, 982.4642174773446, 4135.28143646547, 1977.7889667358463, 2859.9291333604974, 4476.098338349163, 10454.690886656177, 4943.159806735401, 3848.174636868532, 4793.740125262794, 47531.8902512716, 54499.76054291927, 44053.800397943305, 10008.086324253247, 21429.727798783497, 38399.3160499168, 12932.033758598525, 13406.812279366732, 30766.19780880118, 6678.185492656017, 13378.255606890714, 6202.428390761621, 17971.032006025333, 27471.731925911645, 19479.40593879741, 15882.945535895387, 13583.478057515767, 13608.143345704208, 6777.600654593539, 6756.240878217979, 15882.09442703469, 5099.405245190084, 13514.85764244435, 5644.077118279626, 6694.467976780797, 5813.539849750904, 5198.723456589659, 5159.198533163115, 42972.51710872682, 18717.2951223622, 4491.849089383188, 4359.9905760164065, 3990.9390420291506, 3791.982006798031, 3415.2205118242196, 3358.535803642435, 3117.754520986924, 2398.1082745082144, 2271.3106378798207, 2067.0458810387936, 1920.2015161291363, 1545.7910154533524, 1378.670509000544, 1213.8261540692474, 1228.0097028816747, 1203.7758852742882, 1165.0481258806608, 1158.089044196434, 1072.7048972737377, 986.135048350252, 978.9176049758992, 981.3229164747844, 878.140931970087, 793.9291984108876, 793.1531140212523, 741.7291699284467, 744.085189583163, 681.4644290959633, 8486.41928958355, 3029.066299087867, 1081.671145068421, 29505.21336602844, 3732.279918460057, 11007.704487533323, 8161.124185967919, 1574.9080053665846, 32246.57338672482, 32494.495264779012, 7429.764889741555, 6689.68170792944, 6139.545226070903, 5252.443089729432, 1735.6516198314368, 10228.42735143995, 2837.3048024685836, 3763.8740589196295, 6242.765326640032, 7748.324972401059, 37462.144474686196, 8039.164623650091, 5317.7280336385975, 7692.303251908156, 6690.910326206826, 16809.12722076892, 14397.207122535583, 6129.835704828091, 13638.259082845445, 13757.210634874804, 5935.383451265481, 16296.258756174595, 8318.135910624587, 11683.477673538537, 10359.98615123985, 10535.91467618151, 10126.946589249541, 10889.946619051434, 9332.684557475424, 6728.518916460108, 7325.117768187976, 7045.671217344853, 6727.68393561963, 7082.6600568821705, 4316.559410192644, 4367.41831173903, 3983.481310656105, 3924.238693911522, 3629.506157956537, 3332.1839049235195, 3291.785842726, 3176.1491735575673, 2512.7993642311676, 1909.0350373723988, 1740.618328523892, 1366.942384365569, 1254.9819333466723, 1178.7282445791936, 1136.3434562065531, 1064.990544264799, 840.7893856917246, 873.878329757199, 791.9518231233883, 820.457315898589, 703.4713043201558, 619.9440096971783, 583.2568161835004, 3539.289621904322, 560.3600680772677, 560.3643837283745, 547.523997417293, 517.9086198487222, 505.42476548010256, 863.9159859492189, 5163.048359961303, 4469.632351131755, 2035.0234166324385, 10868.435444137102, 4185.102299030415, 6119.516367296352, 2303.734362304875, 6121.466172353633, 2984.2527840299126, 16382.768720931332, 10042.71613334503, 9019.87841332901, 12093.205598900784, 44431.24209028518, 13653.2807160143, 27706.06895726459, 46111.965121479676, 4826.797091905861, 44031.50259253137, 31005.879296250125, 9705.76803506978, 8918.824372565787, 21643.12413171776, 9850.789095593098, 19019.186194138234, 15866.108439451875, 7155.411626399282, 9897.81312118564, 6733.047001205208, 7075.286927543115, 7761.189087459077, 9129.871486486174, 10774.223114660143, 7575.687921158089, 9384.52416386591, 9674.908084710063, 7576.670166307724, 44798.09220011574, 40654.08049488749, 26621.527031983263, 18634.09597966263, 15680.73670714543, 13621.403139420112, 12757.390859589777, 6087.443437340243, 5402.323381459875, 4700.2075277578415, 3724.7869271933487, 3434.1037920713306, 2599.7873677785033, 2508.553616711071, 2352.0099709227197, 1850.7919451920752, 1802.0669963683104, 1627.4038135993048, 1647.0927000831907, 1357.7373824514118, 1301.7816102614438, 1267.0710215197457, 1291.6528626247057, 1170.7522879760033, 1144.8075710803332, 1094.4319798387444, 1062.9691998257974, 897.2346084774632, 867.9375627243152, 722.9302251735241, 11441.836654269211, 29721.684330414988, 2241.86014908702, 5661.545396392743, 5210.560661774779, 2526.1361488062976, 2008.8328441101096, 5722.496167536662, 5154.517584001954, 3140.0379129321127, 2569.5972895071136, 5620.584723011866, 18149.576839975376, 10596.466682360628, 21281.04223506115, 3564.5592775812415, 4091.5129545243494, 12189.72061414432, 7460.8991773330035, 6172.521731423203, 10098.822986277864, 9308.757472276795, 7466.697346116172, 10382.156994468149, 6775.848998934879, 10099.63458036154, 9139.941006941279, 7105.665300397983, 7615.5720379829045, 5781.3619548394345, 6015.028908739529, 6024.16572945415, 5764.80941985285], \"Total\": [44798.0, 40654.0, 42973.0, 68030.0, 58049.0, 33916.0, 26622.0, 108752.0, 37736.0, 65086.0, 31022.0, 36416.0, 60323.0, 109788.0, 93454.0, 18634.0, 18718.0, 75659.0, 51175.0, 15681.0, 53669.0, 13622.0, 24855.0, 57181.0, 29609.0, 12758.0, 42419.0, 26400.0, 21884.0, 12518.0, 4767.299713596939, 3434.912503651533, 2838.227341077727, 2742.4922744773485, 2595.879592921519, 2438.5932092348526, 2129.9860738922234, 2057.277617014612, 2009.5786867580853, 2000.2802766647037, 1799.679754831115, 1765.145089326368, 1758.0482263493093, 1712.7972814386553, 1625.217618550436, 1578.7741124396216, 1530.5937328214443, 1499.9534608801398, 1439.1369993778321, 1426.829995087409, 1387.4477477832386, 1363.0847611639845, 1316.0218720038158, 1271.7081480112895, 1276.922207801212, 1224.7265989005532, 1224.1469221199845, 1852.2078373256775, 1185.3773447389847, 1158.0546997772487, 7009.040051630299, 4425.997345087075, 2225.4904031115925, 1746.572693390311, 1421.0203319863347, 1697.1504113208082, 21884.456019189474, 24855.322980407313, 4032.1703009734497, 3309.887532728147, 10179.370932164593, 8475.26483735001, 10623.78089335845, 7408.6293424852065, 9554.121486612145, 4787.229309570982, 3257.9327403871157, 2848.419659735955, 7032.173804904133, 13441.374500298009, 11888.103044837282, 6594.0157354789535, 42286.5139803142, 20789.015949244837, 9586.1248389556, 16545.366714550208, 8573.019340295321, 109788.95763614707, 4508.07530306731, 22878.128613270623, 42419.37645732686, 49519.87972501701, 5266.033773824853, 5839.240951579694, 10530.621556042159, 16644.688198036216, 93454.26247151569, 11923.861363526154, 57181.94032999546, 108752.82610640612, 53669.58624993371, 11833.41688783512, 5836.709006515578, 5769.734713181066, 5113.4616438532985, 4364.29770563771, 4238.73495017468, 4024.257139984824, 3527.6090999947533, 3286.0173904771887, 3235.6728533098058, 3055.11177640317, 2992.820823224129, 2886.910608735631, 2488.507511255162, 2395.3999056322173, 2325.502304683887, 2185.7023973119653, 2168.841494457096, 2053.5051820959134, 1917.9134009065185, 1500.8647443263114, 1440.5772212025163, 1392.457072613154, 1289.5100381550778, 1187.659636471861, 1148.7493367642435, 1166.35862281351, 1153.4525620593845, 1147.5452957428147, 1028.3788259721232, 983.2748279987994, 4147.396181639058, 1981.382228499062, 2910.269511138521, 4607.218316243372, 11583.015338373454, 5293.251238659131, 4069.7611019109913, 5139.927282378212, 58049.048374535014, 68030.10645056475, 65086.5811920761, 12394.200035528585, 29609.428562250254, 60323.86827116368, 17111.06522133724, 18849.47730309074, 51175.33749725812, 8738.318862444985, 21338.153084891575, 8078.8694662479675, 37168.3076683589, 75659.69388931274, 51962.884207831405, 42933.96346745859, 39024.119685031896, 39383.71620901638, 11620.537957228207, 11603.625481326013, 109788.95763614707, 7060.7106638431005, 108752.82610640612, 16342.471899501446, 42286.5139803142, 24189.864678622118, 16644.688198036216, 37736.651852912575, 42973.31898805718, 18718.094880633478, 4492.656391040102, 4360.787441271011, 3991.753678378347, 3792.7844068915674, 3416.027928317872, 3359.335706798678, 3118.571574507195, 2398.9334601569467, 2272.1125570058716, 2067.856525255962, 1921.0180002631382, 1546.5948607184596, 1379.516915691832, 1214.6237805777093, 1228.8209364338948, 1204.5775996624757, 1165.8473906299569, 1158.914511590945, 1073.5066427170675, 986.945205150528, 979.7224607383525, 982.134203996045, 878.9585101134431, 794.7271973153759, 793.9504640724168, 742.5371588342266, 744.8986894775097, 682.2695081610185, 8586.914425214925, 3071.177778649122, 1086.605276427914, 31022.840167339327, 3809.451936106879, 11602.651598904224, 8639.544303503873, 1599.280252896962, 36416.218388084046, 37736.651852912575, 8132.85652105417, 7311.24549610772, 6781.340768955628, 6040.064542531533, 1806.3520717754031, 13150.569591212165, 3182.854186106118, 4478.079487126121, 8267.61832194943, 11963.163095605203, 108752.82610640612, 13622.933837091914, 7723.43477240915, 13180.952530089826, 10798.33879792512, 42419.37645732686, 42933.96346745859, 10544.342153034502, 51962.884207831405, 57181.94032999546, 10831.660216550703, 109788.95763614707, 28026.819882935502, 75659.69388931274, 60323.86827116368, 68030.10645056475, 65086.5811920761, 93454.26247151569, 58049.048374535014, 18814.20429161169, 53669.58624993371, 37168.3076683589, 39024.119685031896, 7083.513957005959, 4317.367152892794, 4368.247893720877, 3984.27861819732, 3925.0354290498244, 3630.335645015827, 3332.9859628125087, 3292.587362518811, 3176.962484506314, 2513.6065032527977, 1909.846848331472, 1741.4180335287278, 1367.7745643001147, 1255.7890758556332, 1179.5208466611562, 1137.1559164717485, 1065.8085879365954, 841.59541889379, 874.7313016566154, 792.7549272826739, 821.3303449230034, 704.28455618716, 620.7473469553639, 584.0665658091998, 3544.361833919743, 561.1674558285458, 561.1839967628376, 548.3429994292262, 518.7000136336607, 506.2207019126139, 867.9303680016677, 5316.491096930252, 4605.9603426192725, 2114.530428863654, 12648.97000787901, 4878.337322849069, 7531.070930329561, 2636.0058204287207, 7933.4964329843515, 3557.7636076511885, 26400.54273142529, 14948.3699692728, 13235.945731661195, 19261.28910755757, 93454.26247151569, 23092.901582279483, 57181.94032999546, 108752.82610640612, 6648.152459864002, 109788.95763614707, 75659.69388931274, 16728.026219678766, 15386.6264202746, 53669.58624993371, 18183.975544969846, 49519.87972501701, 39383.71620901638, 12332.7987608529, 24189.864678622118, 13396.928141065815, 14912.260294864838, 18756.437090551943, 28026.819882935502, 42933.96346745859, 18814.20429161169, 39024.119685031896, 51962.884207831405, 28009.205640655815, 44798.881556549044, 40654.869383410594, 26622.322893482673, 18634.881944281526, 15681.52623997801, 13622.195388393298, 12758.18853053139, 6088.241437484884, 5403.111002796185, 4700.999419057751, 3725.5838674715574, 3434.9118551945116, 2600.5760148812033, 2509.3476015554756, 2352.796329417788, 1851.590087756655, 1802.8615974844165, 1628.1962251001528, 1647.8955024562226, 1358.5468133292582, 1302.5674703910354, 1267.8568630606565, 1292.459453163496, 1171.5440977388193, 1145.6051720689782, 1095.233423095526, 1063.7660454487152, 898.0389592888067, 868.7283911470555, 723.7228605785076, 12518.059092246862, 33916.02335415308, 2360.0189339322474, 6757.050966112254, 6476.398727991715, 2848.9165021378813, 2249.3444892873767, 8132.95995855119, 7246.347844358572, 4209.374565414777, 3243.8686477667384, 9569.650406294288, 53669.58624993371, 28009.205640655815, 93454.26247151569, 5498.889580610586, 7158.7930167272225, 51175.33749725812, 23092.901582279483, 16123.32704983874, 42419.37645732686, 39024.119685031896, 26400.54273142529, 60323.86827116368, 22878.128613270623, 65086.5811920761, 51962.884207831405, 28026.819882935502, 49519.87972501701, 16342.471899501446, 42286.5139803142, 57181.94032999546, 37168.3076683589], \"Category\": [\"Default\", \"Default\", \"Default\", \"Default\", \"Default\", \"Default\", \"Default\", \"Default\", \"Default\", \"Default\", \"Default\", \"Default\", \"Default\", \"Default\", \"Default\", \"Default\", \"Default\", \"Default\", \"Default\", \"Default\", \"Default\", \"Default\", \"Default\", \"Default\", \"Default\", \"Default\", \"Default\", \"Default\", \"Default\", \"Default\", \"Topic1\", \"Topic1\", \"Topic1\", \"Topic1\", \"Topic1\", \"Topic1\", \"Topic1\", \"Topic1\", \"Topic1\", \"Topic1\", \"Topic1\", \"Topic1\", \"Topic1\", \"Topic1\", \"Topic1\", \"Topic1\", \"Topic1\", \"Topic1\", \"Topic1\", \"Topic1\", \"Topic1\", \"Topic1\", \"Topic1\", \"Topic1\", \"Topic1\", \"Topic1\", \"Topic1\", \"Topic1\", \"Topic1\", \"Topic1\", \"Topic1\", \"Topic1\", \"Topic1\", \"Topic1\", \"Topic1\", \"Topic1\", \"Topic1\", \"Topic1\", \"Topic1\", \"Topic1\", \"Topic1\", \"Topic1\", \"Topic1\", \"Topic1\", \"Topic1\", \"Topic1\", \"Topic1\", \"Topic1\", \"Topic1\", \"Topic1\", \"Topic1\", \"Topic1\", \"Topic1\", \"Topic1\", \"Topic1\", \"Topic1\", \"Topic1\", \"Topic1\", \"Topic1\", \"Topic1\", \"Topic1\", \"Topic1\", \"Topic1\", \"Topic1\", \"Topic1\", \"Topic1\", \"Topic1\", \"Topic1\", \"Topic1\", \"Topic1\", \"Topic1\", \"Topic1\", \"Topic2\", \"Topic2\", \"Topic2\", \"Topic2\", \"Topic2\", \"Topic2\", \"Topic2\", \"Topic2\", \"Topic2\", \"Topic2\", \"Topic2\", \"Topic2\", \"Topic2\", \"Topic2\", \"Topic2\", \"Topic2\", \"Topic2\", \"Topic2\", \"Topic2\", \"Topic2\", \"Topic2\", \"Topic2\", \"Topic2\", \"Topic2\", \"Topic2\", \"Topic2\", \"Topic2\", \"Topic2\", \"Topic2\", \"Topic2\", \"Topic2\", \"Topic2\", \"Topic2\", \"Topic2\", \"Topic2\", \"Topic2\", \"Topic2\", \"Topic2\", \"Topic2\", \"Topic2\", \"Topic2\", \"Topic2\", \"Topic2\", \"Topic2\", \"Topic2\", \"Topic2\", \"Topic2\", \"Topic2\", \"Topic2\", \"Topic2\", \"Topic2\", \"Topic2\", \"Topic2\", \"Topic2\", \"Topic2\", \"Topic2\", \"Topic2\", \"Topic2\", \"Topic2\", \"Topic2\", \"Topic2\", \"Topic2\", \"Topic2\", \"Topic2\", \"Topic2\", \"Topic2\", \"Topic3\", \"Topic3\", \"Topic3\", \"Topic3\", \"Topic3\", \"Topic3\", \"Topic3\", \"Topic3\", \"Topic3\", \"Topic3\", \"Topic3\", \"Topic3\", \"Topic3\", \"Topic3\", \"Topic3\", \"Topic3\", \"Topic3\", \"Topic3\", \"Topic3\", \"Topic3\", \"Topic3\", \"Topic3\", \"Topic3\", \"Topic3\", \"Topic3\", \"Topic3\", \"Topic3\", \"Topic3\", \"Topic3\", \"Topic3\", \"Topic3\", \"Topic3\", \"Topic3\", \"Topic3\", \"Topic3\", \"Topic3\", \"Topic3\", \"Topic3\", \"Topic3\", \"Topic3\", \"Topic3\", \"Topic3\", \"Topic3\", \"Topic3\", \"Topic3\", \"Topic3\", \"Topic3\", \"Topic3\", \"Topic3\", \"Topic3\", \"Topic3\", \"Topic3\", \"Topic3\", \"Topic3\", \"Topic3\", \"Topic3\", \"Topic3\", \"Topic3\", \"Topic3\", \"Topic3\", \"Topic3\", \"Topic3\", \"Topic3\", \"Topic3\", \"Topic3\", \"Topic3\", \"Topic3\", \"Topic3\", \"Topic3\", \"Topic3\", \"Topic3\", \"Topic3\", \"Topic3\", \"Topic4\", \"Topic4\", \"Topic4\", \"Topic4\", \"Topic4\", \"Topic4\", \"Topic4\", \"Topic4\", \"Topic4\", \"Topic4\", \"Topic4\", \"Topic4\", \"Topic4\", \"Topic4\", \"Topic4\", \"Topic4\", \"Topic4\", \"Topic4\", \"Topic4\", \"Topic4\", \"Topic4\", \"Topic4\", \"Topic4\", \"Topic4\", \"Topic4\", \"Topic4\", \"Topic4\", \"Topic4\", \"Topic4\", \"Topic4\", \"Topic4\", \"Topic4\", \"Topic4\", \"Topic4\", \"Topic4\", \"Topic4\", \"Topic4\", \"Topic4\", \"Topic4\", \"Topic4\", \"Topic4\", \"Topic4\", \"Topic4\", \"Topic4\", \"Topic4\", \"Topic4\", \"Topic4\", \"Topic4\", \"Topic4\", \"Topic4\", \"Topic4\", \"Topic4\", \"Topic4\", \"Topic4\", \"Topic4\", \"Topic4\", \"Topic4\", \"Topic4\", \"Topic4\", \"Topic4\", \"Topic4\", \"Topic4\", \"Topic4\", \"Topic4\", \"Topic4\", \"Topic4\", \"Topic4\", \"Topic4\", \"Topic5\", \"Topic5\", \"Topic5\", \"Topic5\", \"Topic5\", \"Topic5\", \"Topic5\", \"Topic5\", \"Topic5\", \"Topic5\", \"Topic5\", \"Topic5\", \"Topic5\", \"Topic5\", \"Topic5\", \"Topic5\", \"Topic5\", \"Topic5\", \"Topic5\", \"Topic5\", \"Topic5\", \"Topic5\", \"Topic5\", \"Topic5\", \"Topic5\", \"Topic5\", \"Topic5\", \"Topic5\", \"Topic5\", \"Topic5\", \"Topic5\", \"Topic5\", \"Topic5\", \"Topic5\", \"Topic5\", \"Topic5\", \"Topic5\", \"Topic5\", \"Topic5\", \"Topic5\", \"Topic5\", \"Topic5\", \"Topic5\", \"Topic5\", \"Topic5\", \"Topic5\", \"Topic5\", \"Topic5\", \"Topic5\", \"Topic5\", \"Topic5\", \"Topic5\", \"Topic5\", \"Topic5\", \"Topic5\", \"Topic5\", \"Topic5\", \"Topic5\", \"Topic5\", \"Topic5\", \"Topic5\", \"Topic5\", \"Topic5\"], \"logprob\": [30.0, 29.0, 28.0, 27.0, 26.0, 25.0, 24.0, 23.0, 22.0, 21.0, 20.0, 19.0, 18.0, 17.0, 16.0, 15.0, 14.0, 13.0, 12.0, 11.0, 10.0, 9.0, 8.0, 7.0, 6.0, 5.0, 4.0, 3.0, 2.0, 1.0, -5.6196, -5.9475, -6.1383, -6.1727, -6.2276, -6.2902, -6.4255, -6.4603, -6.4837, -6.4884, -6.5941, -6.6135, -6.6175, -6.6436, -6.6961, -6.7251, -6.7561, -6.7763, -6.8178, -6.8264, -6.8544, -6.8721, -6.9072, -6.9415, -6.9374, -6.9792, -6.9797, -6.5655, -7.0119, -7.0352, -5.2374, -5.6968, -6.3834, -6.6278, -6.8321, -6.665, -4.2386, -4.1247, -5.8595, -6.0441, -5.0073, -5.1819, -4.9867, -5.3236, -5.102, -5.7297, -6.0837, -6.203, -5.4276, -4.8707, -5.0362, -5.5228, -4.0198, -4.6857, -5.3161, -4.939, -5.4272, -3.6674, -5.8897, -4.8324, -4.4397, -4.3925, -5.7964, -5.7444, -5.4349, -5.2448, -4.5975, -5.4581, -4.9316, -4.7248, -5.3015, -5.6027, -5.2461, -5.2576, -5.3784, -5.5369, -5.5661, -5.618, -5.7497, -5.8207, -5.8361, -5.8936, -5.9142, -5.9502, -6.0988, -6.1369, -6.1665, -6.2286, -6.2363, -6.291, -6.3593, -6.6046, -6.6457, -6.6796, -6.7565, -6.8388, -6.8722, -6.8569, -6.8681, -6.8732, -6.9829, -7.0278, -5.5906, -6.3281, -5.9593, -5.5114, -4.6631, -5.4121, -5.6625, -5.4428, -3.1487, -3.0119, -3.2247, -4.7067, -3.9454, -3.3621, -4.4504, -4.4144, -3.5837, -5.1113, -4.4165, -5.1852, -4.1214, -3.697, -4.0408, -4.2449, -4.4013, -4.3995, -5.0965, -5.0997, -4.2449, -5.381, -4.4063, -5.2795, -5.1088, -5.2499, -5.3617, -5.3693, -3.212, -4.0431, -5.4703, -5.5001, -5.5885, -5.6397, -5.7443, -5.7611, -5.8355, -6.0979, -6.1522, -6.2465, -6.3201, -6.537, -6.6515, -6.7788, -6.7672, -6.7871, -6.8198, -6.8258, -6.9024, -6.9865, -6.9939, -6.9914, -7.1025, -7.2033, -7.2043, -7.2713, -7.2682, -7.3561, -4.8341, -5.8643, -6.8941, -3.588, -5.6556, -4.574, -4.8732, -6.5184, -3.4992, -3.4915, -4.9671, -5.072, -5.1578, -5.3139, -6.4212, -4.6474, -5.9297, -5.6471, -5.1411, -4.9251, -3.3492, -4.8882, -5.3015, -4.9324, -5.0718, -4.1507, -4.3055, -5.1594, -4.3597, -4.351, -5.1916, -4.1816, -4.8541, -4.5144, -4.6346, -4.6178, -4.6574, -4.5847, -4.739, -5.0662, -4.9813, -5.0202, -5.0663, -4.9602, -5.4554, -5.4437, -5.5357, -5.5507, -5.6287, -5.7142, -5.7264, -5.7622, -5.9964, -6.2712, -6.3636, -6.6053, -6.6907, -6.7534, -6.79, -6.8549, -7.0913, -7.0527, -7.1511, -7.1157, -7.2696, -7.396, -7.457, -5.6539, -7.497, -7.497, -7.5202, -7.5758, -7.6002, -7.0641, -5.2763, -5.4205, -6.2073, -4.532, -5.4863, -5.1064, -6.0833, -5.106, -5.8245, -4.1216, -4.611, -4.7184, -4.4252, -3.1239, -4.3039, -3.5962, -3.0868, -5.3437, -3.1329, -3.4837, -4.6451, -4.7297, -3.8432, -4.6303, -3.9724, -4.1537, -4.95, -4.6255, -5.0108, -4.9612, -4.8687, -4.7063, -4.5407, -4.8929, -4.6788, -4.6483, -4.8928, -3.0129, -3.11, -3.5334, -3.8901, -4.0627, -4.2034, -4.269, -5.0089, -5.1283, -5.2675, -5.5001, -5.5813, -5.8597, -5.8954, -5.9598, -6.1995, -6.2262, -6.3281, -6.3161, -6.5093, -6.5514, -6.5784, -6.5592, -6.6574, -6.6799, -6.7249, -6.754, -6.9235, -6.9567, -7.1395, -4.3778, -3.4232, -6.0078, -5.0814, -5.1644, -5.8884, -6.1175, -5.0707, -5.1752, -5.6709, -5.8713, -5.0887, -3.9164, -4.4546, -3.7573, -5.5441, -5.4062, -4.3145, -4.8054, -4.995, -4.5027, -4.5841, -4.8046, -4.475, -4.9017, -4.5026, -4.6024, -4.8542, -4.7849, -5.0605, -5.0208, -5.0193, -5.0633], \"loglift\": [30.0, 29.0, 28.0, 27.0, 26.0, 25.0, 24.0, 23.0, 22.0, 21.0, 20.0, 19.0, 18.0, 17.0, 16.0, 15.0, 14.0, 13.0, 12.0, 11.0, 10.0, 9.0, 8.0, 7.0, 6.0, 5.0, 4.0, 3.0, 2.0, 1.0, 1.4148, 1.4147, 1.4146, 1.4146, 1.4146, 1.4146, 1.4146, 1.4145, 1.4145, 1.4145, 1.4145, 1.4145, 1.4145, 1.4145, 1.4144, 1.4144, 1.4144, 1.4144, 1.4144, 1.4144, 1.4144, 1.4143, 1.4143, 1.4143, 1.4143, 1.4143, 1.4143, 1.4143, 1.4143, 1.4142, 1.4116, 1.4119, 1.4128, 1.4107, 1.4127, 1.4022, 1.2718, 1.2584, 1.3423, 1.3552, 1.2686, 1.2771, 1.2463, 1.27, 1.2372, 1.3005, 1.3314, 1.3464, 1.2181, 1.1271, 1.0845, 1.1872, 0.8319, 0.8761, 1.0198, 0.8511, 1.0204, 0.2303, 1.2006, 0.6336, 0.4089, 0.3013, 1.1385, 1.0872, 0.807, 0.5393, -0.5388, 0.6595, -0.3817, -0.8177, -0.6882, 0.5225, 1.5859, 1.5859, 1.5859, 1.5859, 1.5859, 1.5858, 1.5858, 1.5858, 1.5858, 1.5858, 1.5858, 1.5858, 1.5857, 1.5857, 1.5857, 1.5857, 1.5857, 1.5857, 1.5856, 1.5855, 1.5855, 1.5855, 1.5854, 1.5854, 1.5853, 1.5853, 1.5853, 1.5853, 1.5853, 1.5852, 1.5831, 1.5842, 1.5686, 1.5572, 1.4836, 1.5176, 1.5301, 1.5163, 1.3862, 1.3643, 1.1957, 1.3722, 1.2627, 1.1344, 1.306, 1.2453, 1.0772, 1.3172, 1.1192, 1.3217, 0.8594, 0.573, 0.6049, 0.5916, 0.5307, 0.5234, 1.0469, 1.0452, -0.3473, 1.2606, -0.4992, 0.5229, -0.2571, 0.1603, 0.4224, -0.4038, 1.6236, 1.6236, 1.6234, 1.6234, 1.6234, 1.6234, 1.6234, 1.6234, 1.6233, 1.6233, 1.6233, 1.6232, 1.6232, 1.6231, 1.623, 1.623, 1.6229, 1.6229, 1.6229, 1.6229, 1.6229, 1.6228, 1.6228, 1.6228, 1.6227, 1.6226, 1.6226, 1.6225, 1.6225, 1.6224, 1.6118, 1.6098, 1.6191, 1.5735, 1.6031, 1.571, 1.5666, 1.6083, 1.502, 1.474, 1.5332, 1.5348, 1.5242, 1.4839, 1.5837, 1.3723, 1.5087, 1.4499, 1.3427, 1.1893, 0.5579, 1.0962, 1.2504, 1.0851, 1.145, 0.6979, 0.531, 1.0812, 0.286, 0.1989, 1.0221, -0.284, 0.4089, -0.2445, -0.1382, -0.2416, -0.2369, -0.526, -0.2042, 0.5953, -0.3679, -0.0394, -0.1343, 1.6782, 1.6782, 1.6781, 1.6781, 1.6781, 1.6781, 1.6781, 1.6781, 1.6781, 1.678, 1.6779, 1.6779, 1.6777, 1.6777, 1.6777, 1.6776, 1.6776, 1.6774, 1.6774, 1.6773, 1.6773, 1.6772, 1.677, 1.677, 1.6769, 1.6769, 1.6769, 1.6768, 1.6768, 1.6768, 1.6737, 1.6491, 1.6483, 1.64, 1.5266, 1.5251, 1.4708, 1.5436, 1.419, 1.5026, 1.2012, 1.2806, 1.2948, 1.2129, 0.9348, 1.1528, 0.9538, 0.8203, 1.3582, 0.7647, 0.7863, 1.134, 1.133, 0.7702, 1.0653, 0.7214, 0.7692, 1.1339, 0.7847, 0.9903, 0.9328, 0.7959, 0.5567, 0.2958, 0.7687, 0.2532, -0.0027, 0.3709, 1.7811, 1.7811, 1.7811, 1.781, 1.781, 1.781, 1.781, 1.781, 1.7809, 1.7809, 1.7809, 1.7809, 1.7808, 1.7808, 1.7808, 1.7807, 1.7806, 1.7806, 1.7806, 1.7805, 1.7805, 1.7805, 1.7805, 1.7804, 1.7804, 1.7804, 1.7803, 1.7802, 1.7802, 1.78, 1.6912, 1.6491, 1.7297, 1.6042, 1.5636, 1.6608, 1.668, 1.4296, 1.4405, 1.488, 1.5481, 1.2489, 0.6969, 0.8091, 0.3014, 1.3476, 1.2217, 0.3464, 0.6512, 0.8209, 0.3459, 0.3479, 0.5182, 0.0214, 0.5643, -0.0821, 0.0432, 0.4088, -0.0911, 0.742, -0.1691, -0.4694, -0.0826]}, \"token.table\": {\"Topic\": [3, 4, 5, 1, 3, 5, 1, 3, 5, 1, 2, 3, 4, 5, 2, 4, 5, 5, 2, 3, 4, 5, 1, 2, 3, 4, 5, 1, 2, 3, 4, 5, 2, 4, 5, 1, 3, 4, 5, 1, 1, 1, 3, 4, 1, 3, 5, 2, 3, 4, 5, 3, 1, 3, 1, 3, 4, 5, 1, 2, 3, 3, 1, 3, 5, 3, 1, 5, 1, 4, 2, 2, 3, 1, 2, 3, 4, 5, 4, 1, 3, 2, 4, 1, 1, 2, 3, 4, 5, 3, 2, 3, 5, 3, 2, 3, 4, 2, 3, 5, 1, 1, 3, 4, 5, 3, 2, 4, 3, 1, 5, 1, 1, 5, 1, 1, 2, 3, 4, 5, 1, 3, 5, 1, 2, 3, 4, 2, 3, 4, 5, 2, 1, 2, 3, 4, 5, 4, 3, 5, 5, 3, 5, 3, 1, 2, 3, 4, 5, 1, 3, 4, 5, 1, 2, 5, 5, 1, 3, 5, 5, 5, 1, 2, 3, 4, 5, 1, 3, 1, 3, 5, 1, 1, 2, 1, 5, 3, 4, 1, 2, 1, 1, 5, 5, 1, 3, 1, 3, 1, 5, 1, 5, 1, 3, 5, 1, 3, 4, 5, 1, 3, 4, 5, 1, 3, 4, 5, 1, 3, 1, 2, 3, 4, 5, 4, 2, 5, 3, 2, 1, 2, 3, 4, 5, 5, 4, 2, 3, 5, 1, 2, 3, 4, 5, 1, 3, 2, 1, 3, 1, 2, 4, 5, 1, 3, 1, 2, 3, 4, 5, 1, 3, 5, 2, 2, 1, 2, 3, 4, 5, 3, 5, 4, 5, 5, 1, 2, 3, 4, 4, 4, 5, 2, 2, 4, 5, 2, 2, 1, 4, 1, 2, 3, 4, 5, 1, 2, 3, 5, 1, 2, 3, 4, 5, 2, 3, 4, 5, 1, 1, 2, 3, 4, 5, 4, 2, 4, 3, 1, 4, 4, 1, 4, 1, 2, 3, 4, 5, 1, 2, 3, 4, 5, 2, 3, 1, 2, 3, 4, 5, 2, 3, 4, 1, 1, 3, 4, 2, 4, 2, 1, 4, 1, 2, 3, 2, 4, 5, 3, 1, 2, 3, 4, 5, 1, 3, 1, 2, 3, 4, 5, 3, 5, 1, 3, 5, 2, 3, 4, 5, 1, 2, 3, 4, 5, 4, 5, 1, 2, 3, 4, 5, 1, 2, 3, 4, 5, 1, 1, 5, 1, 4, 5, 1, 2, 3, 4, 1, 2, 3, 4, 1, 2, 3, 4, 5, 5, 5, 4, 5, 3, 1, 1, 2, 3, 4, 5, 1, 1, 3, 5, 1, 3, 5, 1, 5, 3, 1, 3, 2, 4, 5, 5, 1, 1, 3, 1, 2, 4, 3, 4, 2, 1, 3, 4, 5, 3, 5, 4, 5, 2, 3, 4, 5, 5, 3, 4, 5, 1, 3, 4, 5, 2, 3, 4, 5, 3, 1, 2, 3, 4, 1, 2, 3, 4, 3, 5, 1, 2, 3, 4, 3, 4, 4, 3, 3, 1, 3, 5, 2, 1, 2, 3, 4, 5, 2, 4, 3, 2, 5, 1, 5, 4, 5, 1, 3, 5, 1, 2, 3, 4, 5, 3, 1, 2, 3, 4, 5, 1, 3, 5, 1, 3, 4, 5, 1, 2, 3, 4, 5, 4, 1, 2, 3, 4, 5, 5, 3, 2, 3, 5, 4, 1, 3, 5, 1, 2, 3, 1, 5, 1, 2, 3, 5, 1, 3, 4, 5, 1, 5, 1, 5, 3, 2, 3, 4, 4, 2, 1, 3, 4, 5, 1, 4, 5, 1, 2, 3, 4, 5, 1, 2, 3, 4, 5, 1, 1, 1, 2, 4, 2, 4, 5, 2, 3, 4, 5, 2, 1, 3, 5, 4, 3, 2, 4, 2, 1, 3, 4, 5, 1, 5, 1, 5, 1, 2, 1, 4, 5, 5, 1, 1, 4, 4], \"Freq\": [0.9150287736284534, 0.033373246751172286, 0.05156440174258997, 0.6739749171965546, 0.11781146873806164, 0.20821135811627725, 0.8650722966051527, 0.05426104903031228, 0.08071668487593717, 0.9995096749854699, 0.1966346128945284, 0.0031511957194635966, 0.771538759953467, 0.028612857132729458, 0.07103903348531977, 0.8126334297759944, 0.11645090161986063, 0.999796092599541, 0.6011880234624419, 0.04154344854323446, 0.11906125680805625, 0.2382006762662409, 0.009793854057671116, 0.36309953936888106, 0.15441511060158114, 0.40980868949008176, 0.06288685237030926, 0.004850662359494735, 0.7557682606383844, 0.03337021936471679, 0.1793576238709559, 0.026649422119633722, 0.9026147073606607, 0.01683499454187746, 0.08054897388498293, 0.07117832928855192, 0.001271041594438427, 0.6718458280497432, 0.2557469481862161, 0.9997273690191468, 0.9993789768556048, 0.027085533931044438, 0.0016928458706902774, 0.9711292478193224, 0.27607856317702417, 0.5901078355171755, 0.13381845803555306, 0.7112664072547868, 0.1495532186209625, 0.0027586971863391447, 0.13639635511688347, 0.9999415068338706, 0.41861312312686266, 0.5813544279038668, 0.18110294661091897, 0.029030621840454622, 0.7260663814708521, 0.06377711741115419, 0.0021729537723594074, 0.13671059160490467, 0.8610726814517876, 0.99981119116081, 0.36565836877880065, 0.396257592727926, 0.2380751638383797, 0.9997931844240495, 0.9875376918982992, 0.012373682297055062, 0.9994037556344595, 0.9990477166944121, 0.9995993125574799, 0.9996316279929577, 0.9992765899620836, 0.05799196480373277, 0.008099146382616215, 0.20341317645570722, 0.6278395974678069, 0.10258918751313871, 0.9996790841404815, 0.011645626711541039, 0.9882478827413725, 0.9995237527898356, 0.9978901808147284, 0.9992099436132045, 0.016370609951191065, 0.019028176501709095, 0.3576553063687165, 0.4026744837344919, 0.2042605650728158, 0.9992731547569884, 0.9998266109621574, 0.20777660046870872, 0.7922638919949279, 0.999816719131327, 0.999872660838394, 0.9981392863878084, 0.999759946480007, 0.5832776438533078, 0.042510940699842736, 0.37416512178727984, 0.9992041865664626, 0.749923305817907, 0.06703183517281093, 0.08243204591728581, 0.10058495133589387, 0.9994700725016639, 0.9982929954400449, 0.001514094533023324, 0.9995103424773385, 0.9199084937658624, 0.08011215110873876, 0.9996222912274864, 0.9994431521002701, 0.9995975012977888, 0.9992507966093045, 0.7584455724253848, 0.15248667868241964, 0.020129001171029243, 0.027914746906993384, 0.04082769105444611, 0.9997120357804855, 0.10669775178635946, 0.8931490972449839, 0.04017762344600049, 0.0010249393736224614, 0.1008540343644502, 0.8578742557220002, 0.6365473750355576, 0.1717396496098434, 0.01959423415432769, 0.1721043477074705, 0.9987034876084502, 0.14174848369316068, 0.038575019529995036, 0.11652759020295311, 0.47543042794374746, 0.2277156700742925, 0.999927443214049, 0.9957617761225555, 0.003681189560527007, 0.9999068417488466, 0.9999925770672433, 0.9998432816191161, 0.9987935413362855, 0.12384565978223466, 7.136021883159589e-05, 0.2967871501206073, 0.32575939896623524, 0.2535428575086602, 0.8666425148228307, 0.025406160405013912, 0.0011880578606661182, 0.10678812386064301, 0.9993478932000301, 0.0005398962145867262, 0.9999786155158341, 0.9999664420433345, 0.13426668710979886, 0.68855375318217, 0.1771232670840934, 0.9997943772031317, 0.9999526723977021, 0.5445072704858528, 9.496115634563181e-05, 0.13902313289000498, 0.08309101180242784, 0.23331956114121735, 0.6735777082476931, 0.32630495143236554, 0.5690414822731205, 0.37249098834298905, 0.05844536520001142, 0.9994182943376108, 0.9995345150022742, 0.9997840016400434, 0.08595581727733075, 0.9140394621628424, 0.9995280488290365, 0.9997361988016309, 0.9992777885797758, 0.9996786400047741, 0.9993512775050095, 0.19532460139190155, 0.804613832295019, 0.9997345331603975, 0.09452408039047981, 0.9054256686389175, 0.08631653567017653, 0.9135781481900449, 0.9420259658883378, 0.057705888224718574, 0.9956642552474517, 0.004007849216062198, 0.06456884645085958, 0.8695271322049091, 0.06572777446408014, 0.03304045605882173, 0.05265687361405927, 0.5912206377078546, 0.3230862944362633, 0.12208031508735719, 0.13648325824403104, 0.4032637758601452, 0.33818036001763324, 0.0811509946237876, 0.5479307771242086, 0.04440685826398388, 0.3265427394588586, 0.8919564374038028, 0.10799566232734568, 0.11049348656285367, 0.008520989482091117, 0.23747019868122785, 0.0719395013651955, 0.571604737060932, 0.9998216106501844, 0.9995248154954426, 0.9995220944937655, 0.9996252922411083, 0.99944459131926, 0.06920290851261048, 0.07016257904668366, 0.3333788805310889, 0.41377794527455314, 0.11345438313931826, 0.999564344723836, 0.9999075443571483, 0.5822318215003224, 0.042314361213241315, 0.3753999133296928, 0.00010336086754235376, 0.8188247926705265, 0.1607778294621313, 0.020293183660815457, 0.9992798741302257, 0.9300202422240629, 0.06993752221524953, 0.9996845732829844, 0.10839327843103948, 0.8913383504604608, 0.1323199557292007, 0.8074744615474637, 0.003227315993395139, 0.056881444383589316, 0.038752135363733016, 0.9610529570205788, 0.19406003536952252, 0.005931302021482271, 0.7777609881502651, 7.604233360874707e-05, 0.022204361413754144, 0.23430258181715438, 0.6476547998285095, 0.11794539527078303, 0.9996876094292452, 0.9996076457114313, 0.000937288242353128, 0.6269521053100073, 0.15544925499426626, 0.07559229674577977, 0.1410150160620281, 0.9988451639384616, 0.999324164197378, 0.9996970425332349, 0.9999878713257305, 0.9999122470087078, 0.0011906493202220702, 0.8011159006432448, 0.15487260787481152, 0.04283397677934707, 0.9995565883556518, 0.9984872216294539, 0.001128552949001926, 0.9997257359285395, 0.999347693408595, 0.9993744801527816, 0.9992653065510705, 0.9997026541896915, 0.9997960579773753, 0.029526958524063375, 0.970481651489436, 0.0005125035532235518, 0.3480667881717752, 0.17240619530440282, 0.24049229235015168, 0.23854477884790218, 0.8072181042592637, 0.026397074582811868, 0.07630750971838052, 0.09006060740018167, 0.32835297844606015, 0.004422466314863909, 0.12936218818729772, 0.38406797644929996, 0.15379681942467366, 0.00014928795459231945, 0.23617354416504938, 0.5025778991350435, 0.2611046325819667, 0.9993643396911926, 0.9996120898650553, 0.3455235135196467, 0.12170004411373213, 0.4028568537259491, 0.12990140323093127, 0.999758711933625, 0.999833052664285, 0.9992413385051055, 0.9998194268164602, 0.12594812857659146, 0.8740496633748999, 0.998176083550498, 0.003456498482599742, 0.9954715629887256, 0.03911438367957175, 0.7676816695591898, 0.09729084041817529, 0.09580548407591308, 0.00012377969518851818, 0.06357185170154599, 0.1486025562981286, 0.2491238703283158, 0.4744418257262003, 0.06424244085451589, 0.9338306037504739, 0.06593301248410184, 0.14798706015366125, 0.06894161957942578, 0.1342415792949979, 0.27051820380803165, 0.37830419526856324, 0.9827268536655717, 0.016836928611752802, 0.0003436107879949551, 0.9994067256306791, 0.9979822860142132, 0.0017973566609891278, 0.9997041803285374, 0.9997920515020183, 0.9997143262582073, 0.9998273334778635, 0.037360540629559305, 0.962388609888015, 0.0312057628985559, 0.9455100443593946, 0.02309717883830122, 0.9996044713573479, 0.9991639699468506, 0.9997785048858764, 0.9988028672877882, 0.06348819570888015, 2.7460292261626363e-05, 0.8855120445606653, 0.006563009850528701, 0.044430752879311454, 0.9990630845862862, 0.9992625863269399, 0.5581921463421756, 0.15830106031242686, 0.05692122082043792, 0.08430583806599967, 0.14224393154754222, 0.9862665785932867, 0.013675535259464524, 0.18112747772058485, 0.17039803877930523, 0.6483127089095231, 0.7237559466892787, 0.09510484115151698, 0.007396292688985162, 0.17376221865218566, 0.8371256332889756, 0.08080282431846576, 0.056520110274574493, 0.0019886705466979912, 0.02355004594773937, 0.9983802559698094, 0.9988430799376126, 0.4577734559077993, 0.052757811637612305, 0.010228109298426909, 0.18310064038936036, 0.2961780709664134, 0.8712412109482564, 0.006017511072367426, 0.057697312046817086, 0.017698561977551253, 0.047432146099837355, 0.9997567412093964, 0.9338511588024142, 0.06600151047174957, 0.7204703547747721, 0.22400171714889514, 0.055315408745484046, 0.8551085824454534, 0.0016093132256430854, 0.14097583856633428, 0.0022530385159003196, 0.3058504308901864, 0.1446593568420126, 0.14843022787416174, 0.4010603702598853, 0.41658935977052974, 0.31235190098745086, 0.19129225865436497, 0.07978521340860449, 0.9994565781295671, 0.9999803219071902, 0.9997874028544442, 0.253956967570232, 0.7459540488031137, 0.9996990866762678, 0.9995370514838994, 0.16585656144698988, 0.0036724881805006195, 0.2405829519007001, 0.48452360728071503, 0.10534794666350349, 0.9996772867418222, 0.7963280966630262, 0.05747635662450713, 0.14604150772928856, 0.019908457432210085, 0.9446100064201541, 0.03541853473404818, 0.9970634087475218, 0.0029371910976020354, 0.999486441326373, 0.9978745328843305, 0.002111159096370234, 0.7221652667501668, 0.00028325760609930055, 0.2774508251742649, 0.9996813075633981, 0.9998205010522984, 0.999223514422097, 0.9995204960953636, 0.03787913959314894, 0.7642202241783945, 0.1978641460923097, 0.9796684831818531, 0.0202128813518228, 0.9998785263211192, 0.20237758558849275, 0.19053139531959845, 0.22427132990744403, 0.38286142685803426, 0.12365836513927381, 0.8763409462731273, 0.8592003928565213, 0.1407229204347265, 0.2027136946982331, 0.14359135790774283, 0.5802238633857418, 0.07352929651395657, 0.9996615391617918, 0.001133277538613586, 0.6814775598863031, 0.31739326264771167, 0.27300495522204327, 0.6196323457906009, 0.008797649506816184, 0.09853367447634126, 0.24267827774643277, 0.07350539157236621, 0.579659228500384, 0.10418138168921579, 0.9993319316024374, 0.10725238522617968, 0.1242726325730297, 0.34446920913435725, 0.42400737204643324, 0.04376488561146168, 0.3699402225475497, 0.33532892929654806, 0.250943521861569, 0.9487486464766051, 0.05119519404134297, 0.0029030302024279065, 0.15207412060410802, 0.8405388986106647, 0.004466200311427549, 0.9998538968968536, 0.9979195945587719, 0.9975885974082019, 0.9990849724058364, 0.9996153739201078, 0.19430477672917074, 0.09425437677984631, 0.7113928437776103, 0.9996120073969229, 0.8448969430093787, 0.002164954288014228, 0.02616770835078067, 0.023814497168156507, 0.10297652135163328, 0.9970110929614254, 0.002893381648255648, 0.998909493335107, 0.9996903879814705, 0.999471744643152, 0.9990892487397602, 0.9988738262825838, 0.9986504460858661, 0.9996445125126584, 0.7186175933855166, 0.10195066407389045, 0.17942307464489138, 0.05132654900761744, 8.108459558865314e-05, 0.1976031594495477, 0.5801602814368132, 0.17084524290529218, 0.9996108853486559, 0.0005773351586877207, 0.37486371853593703, 0.2624565631394378, 0.18619058867678992, 0.1758947783468589, 0.07741044338015518, 0.7551146844098575, 0.1675210376273671, 0.5834330989793958, 0.10592131947832711, 0.1933713461865917, 0.11727346815992802, 0.008598642562222383, 0.2403485954651968, 0.23964582179424593, 0.40917963500421706, 0.10227423893720276, 0.9999149590757996, 0.0106273334671156, 0.4835033157912265, 0.1895701053399912, 0.16121261299989034, 0.15510525933650998, 0.9995355721224071, 0.9999000675050134, 0.999423835938861, 0.9848180124446728, 0.015006750665823586, 0.9989835022137202, 0.409687248066431, 0.3614340676526661, 0.2289279610173188, 0.04158226626065349, 0.007349423804208524, 0.9510734620314584, 0.29632507872685, 0.7035568881639153, 0.282908233793221, 0.054776010940923985, 0.5835693575589852, 0.0786741320578091, 0.46981425137463717, 0.044448688544904975, 0.1361136254875109, 0.34955119595313955, 0.41255425562915704, 0.5873777788478955, 0.9997343444263681, 0.9998614773197383, 0.9992108895161822, 0.9999097198951608, 0.9990422921702287, 0.9995584252176377, 0.9994337047051968, 0.9996360930517315, 0.8213676396865935, 0.038679362533717704, 0.0007110176936345166, 0.13921726441363835, 0.07842004999994756, 0.8387291369170018, 0.08263618172037485, 0.1512320555644786, 0.00032996084850431696, 0.09497373089449257, 0.5417407197693378, 0.21172487779027005, 0.09686417145060484, 0.34535779132483496, 0.0509102909961486, 0.15315920476365377, 0.35374085606819117, 0.999567567734986, 0.9996816669892845, 0.04396949364922362, 0.9326980201521151, 0.023346633796047938, 0.9996925278327818, 0.9993716493710574, 0.999001191453411, 0.6768522665216177, 0.15559274760667413, 0.012383504944305259, 0.15517791555518998, 0.9997539903476661, 0.8638058342304864, 0.04332291287338161, 0.09283481330010344, 0.9992925117218763, 0.9995857907715063, 0.9715189714842155, 0.0284336428204719, 0.9996717510204489, 0.012613377057723172, 0.08401342436645645, 0.6205554244344706, 0.2828350945646214, 0.04999959886058592, 0.9499923783511325, 0.11302542554629631, 0.8866528724532436, 0.9967128092491154, 0.003281476469042321, 0.005031780901241638, 0.15702116282992287, 0.8379395136126516, 0.9991615432919215, 0.9993599513629967, 0.999661158042955, 0.9987960529206777, 0.9981738968267733], \"Term\": [\"accepts\", \"accepts\", \"accepts\", \"accordingly\", \"accordingly\", \"accordingly\", \"act\", \"act\", \"act\", \"action\", \"adjourned\", \"adjourned\", \"adjourned\", \"adjourned\", \"adjournment\", \"adjournment\", \"adjournment\", \"admission\", \"adv\", \"adv\", \"adv\", \"adv\", \"advocate\", \"advocate\", \"advocate\", \"advocate\", \"advocate\", \"advocates\", \"advocates\", \"advocates\", \"advocates\", \"advocates\", \"advs\", \"advs\", \"advs\", \"affidavit\", \"affidavit\", \"affidavit\", \"affidavit\", \"aforesaid\", \"agreement\", \"ahmed\", \"ahmed\", \"ahmed\", \"allowed\", \"allowed\", \"allowed\", \"anr\", \"anr\", \"anr\", \"anr\", \"app\", \"appeal\", \"appeal\", \"appearing\", \"appearing\", \"appearing\", \"appearing\", \"appellant\", \"appellant\", \"appellant\", \"appellants\", \"application\", \"application\", \"application\", \"appln\", \"arbitration\", \"arbitration\", \"arbitrator\", \"arguing\", \"aruna\", \"asg\", \"asi\", \"august\", \"august\", \"august\", \"august\", \"august\", \"badar\", \"bail\", \"bail\", \"bakhru\", \"banerjee\", \"basis\", \"behalf\", \"behalf\", \"behalf\", \"behalf\", \"behalf\", \"behura\", \"bench\", \"bharihoke\", \"bharihoke\", \"bhasin\", \"bhat\", \"bhayana\", \"birbal\", \"ble\", \"ble\", \"ble\", \"bond\", \"case\", \"case\", \"case\", \"case\", \"cbi\", \"cgsc\", \"cgsc\", \"chaggar\", \"circumstances\", \"circumstances\", \"civil\", \"claims\", \"closed\", \"code\", \"company\", \"company\", \"company\", \"company\", \"company\", \"complaint\", \"completion\", \"completion\", \"continue\", \"continue\", \"continue\", \"continue\", \"coram\", \"coram\", \"coram\", \"coram\", \"council\", \"counsel\", \"counsel\", \"counsel\", \"counsel\", \"counsel\", \"counter\", \"covers\", \"covers\", \"cpc\", \"crl\", \"cross\", \"crp\", \"date\", \"date\", \"date\", \"date\", \"date\", \"dated\", \"dated\", \"dated\", \"dated\", \"decision\", \"decision\", \"defendant\", \"defendants\", \"delay\", \"delay\", \"delay\", \"denial\", \"dhjs\", \"directed\", \"directed\", \"directed\", \"directed\", \"directed\", \"dismissed\", \"dismissed\", \"disposed\", \"disposed\", \"disposed\", \"dispute\", \"disputes\", \"division\", \"documents\", \"documents\", \"dudeja\", \"durrez\", \"electricity\", \"endlaw\", \"entitled\", \"evidence\", \"evidence\", \"examination\", \"exceptions\", \"exceptions\", \"exemption\", \"exemption\", \"fact\", \"fact\", \"favour\", \"favour\", \"fee\", \"fee\", \"fee\", \"file\", \"file\", \"file\", \"file\", \"filed\", \"filed\", \"filed\", \"filed\", \"filing\", \"filing\", \"filing\", \"filing\", \"fir\", \"fir\", \"fixed\", \"fixed\", \"fixed\", \"fixed\", \"fixed\", \"gambhir\", \"gauba\", \"girish\", \"gita\", \"gnctd\", \"hearing\", \"hearing\", \"hearing\", \"hearing\", \"hearing\", \"hemani\", \"hima\", \"hon\", \"hon\", \"hon\", \"honble\", \"honble\", \"honble\", \"honble\", \"ias\", \"impugned\", \"impugned\", \"income\", \"indermeet\", \"indermeet\", \"india\", \"india\", \"india\", \"india\", \"insurance\", \"insurance\", \"issue\", \"issue\", \"issue\", \"issue\", \"issue\", \"issued\", \"issued\", \"issued\", \"ita\", \"item\", \"january\", \"january\", \"january\", \"january\", \"january\", \"jasbir\", \"jayachandra\", \"jayant\", \"joint\", \"judicial\", \"justice\", \"justice\", \"justice\", \"justice\", \"jyoti\", \"kailash\", \"kailash\", \"kait\", \"kameswar\", \"kashyap\", \"kathpalia\", \"khanna\", \"khetrapal\", \"kohli\", \"kohli\", \"kumar\", \"kumar\", \"kumar\", \"kumar\", \"kumar\", \"law\", \"law\", \"law\", \"law\", \"learned\", \"learned\", \"learned\", \"learned\", \"learned\", \"let\", \"let\", \"let\", \"let\", \"letter\", \"like\", \"list\", \"list\", \"list\", \"list\", \"lokur\", \"lpa\", \"luthra\", \"mac\", \"malik\", \"malik\", \"manisha\", \"manju\", \"manju\", \"manmohan\", \"manmohan\", \"manmohan\", \"manmohan\", \"manmohan\", \"march\", \"march\", \"march\", \"march\", \"march\", \"master\", \"master\", \"matter\", \"matter\", \"matter\", \"matter\", \"matter\", \"midha\", \"midha\", \"midha\", \"month\", \"months\", \"months\", \"mridul\", \"mudgal\", \"mukta\", \"mukul\", \"mukundakam\", \"mukundakam\", \"muralidhar\", \"muralidhar\", \"muralidhar\", \"najmi\", \"naresh\", \"neera\", \"nominal\", \"notice\", \"notice\", \"notice\", \"notice\", \"notice\", \"notification\", \"ohri\", \"order\", \"order\", \"order\", \"order\", \"order\", \"ordinary\", \"ordinary\", \"original\", \"original\", \"original\", \"ors\", \"ors\", \"ors\", \"ors\", \"page\", \"page\", \"page\", \"page\", \"page\", \"pages\", \"pandit\", \"parties\", \"parties\", \"parties\", \"parties\", \"parties\", \"passed\", \"passed\", \"passed\", \"passed\", \"passed\", \"pay\", \"payment\", \"payment\", \"period\", \"period\", \"period\", \"petition\", \"petition\", \"petition\", \"petition\", \"petitioner\", \"petitioner\", \"petitioner\", \"petitioner\", \"petitioners\", \"petitioners\", \"petitioners\", \"petitioners\", \"plaint\", \"plaintiff\", \"plaintiffs\", \"pleadings\", \"pleadings\", \"pratibha\", \"premises\", \"present\", \"present\", \"present\", \"present\", \"present\", \"procedure\", \"proceedings\", \"proceedings\", \"proceedings\", \"process\", \"process\", \"process\", \"property\", \"property\", \"prosecutor\", \"pursuant\", \"pursuant\", \"pvt\", \"pvt\", \"pvt\", \"pw-\", \"question\", \"raised\", \"rajdipa\", \"rajiv\", \"rajiv\", \"rajiv\", \"rani\", \"rani\", \"ravindra\", \"record\", \"record\", \"record\", \"record\", \"registrar\", \"registrar\", \"rejoinder\", \"rejoinder\", \"renotify\", \"renotify\", \"renotify\", \"renotify\", \"replication\", \"reply\", \"reply\", \"reply\", \"report\", \"report\", \"report\", \"report\", \"request\", \"request\", \"request\", \"request\", \"requisitioned\", \"respondent\", \"respondent\", \"respondent\", \"respondent\", \"respondents\", \"respondents\", \"respondents\", \"respondents\", \"returnable\", \"returnable\", \"rev\", \"rev\", \"rev\", \"rev\", \"rfa\", \"rkb\", \"rkr\", \"roll\", \"rsa\", \"rule\", \"rule\", \"rule\", \"sahai\", \"said\", \"said\", \"said\", \"said\", \"said\", \"sanghi\", \"sanghi\", \"sangita\", \"sanjiv\", \"satinder\", \"satisfaction\", \"savita\", \"sdp\", \"sec\", \"section\", \"section\", \"section\", \"seeks\", \"seeks\", \"seeks\", \"seeks\", \"seeks\", \"sen\", \"september\", \"september\", \"september\", \"september\", \"september\", \"service\", \"service\", \"service\", \"shall\", \"shall\", \"shall\", \"shall\", \"sharma\", \"sharma\", \"sharma\", \"sharma\", \"sharma\", \"siddharth\", \"singh\", \"singh\", \"singh\", \"singh\", \"singh\", \"sisodia\", \"sodhi\", \"south\", \"speed\", \"speed\", \"ssn\", \"stands\", \"stands\", \"stands\", \"state\", \"state\", \"state\", \"statement\", \"statement\", \"subject\", \"subject\", \"subject\", \"subject\", \"submits\", \"submits\", \"submits\", \"submits\", \"suit\", \"suit\", \"sum\", \"summons\", \"sunita\", \"suresh\", \"suspension\", \"swatanter\", \"synopsis\", \"tax\", \"terms\", \"terms\", \"terms\", \"terms\", \"thereto\", \"thereto\", \"thereto\", \"time\", \"time\", \"time\", \"time\", \"time\", \"today\", \"today\", \"today\", \"today\", \"today\", \"tribunal\", \"undertaking\", \"union\", \"union\", \"union\", \"university\", \"veena\", \"venugopal\", \"versus\", \"versus\", \"versus\", \"versus\", \"vibhu\", \"view\", \"view\", \"view\", \"vijender\", \"vikramajit\", \"vipin\", \"vipin\", \"waziri\", \"weeks\", \"weeks\", \"weeks\", \"weeks\", \"witness\", \"witness\", \"witnesses\", \"witnesses\", \"writ\", \"writ\", \"written\", \"written\", \"written\", \"xxxix\", \"year\", \"years\", \"yeeshu\", \"zubeda\"]}, \"R\": 30, \"lambda.step\": 0.01, \"plot.opts\": {\"xlab\": \"PC1\", \"ylab\": \"PC2\"}, \"topic.order\": [2, 1, 4, 3, 5]};\n",
       "\n",
       "function LDAvis_load_lib(url, callback){\n",
       "  var s = document.createElement('script');\n",
       "  s.src = url;\n",
       "  s.async = true;\n",
       "  s.onreadystatechange = s.onload = callback;\n",
       "  s.onerror = function(){console.warn(\"failed to load library \" + url);};\n",
       "  document.getElementsByTagName(\"head\")[0].appendChild(s);\n",
       "}\n",
       "\n",
       "if(typeof(LDAvis) !== \"undefined\"){\n",
       "   // already loaded: just create the visualization\n",
       "   !function(LDAvis){\n",
       "       new LDAvis(\"#\" + \"ldavis_el240271399165395921609368773724\", ldavis_el240271399165395921609368773724_data);\n",
       "   }(LDAvis);\n",
       "}else if(typeof define === \"function\" && define.amd){\n",
       "   // require.js is available: use it to load d3/LDAvis\n",
       "   require.config({paths: {d3: \"https://cdnjs.cloudflare.com/ajax/libs/d3/3.5.5/d3.min\"}});\n",
       "   require([\"d3\"], function(d3){\n",
       "      window.d3 = d3;\n",
       "      LDAvis_load_lib(\"https://cdn.rawgit.com/bmabey/pyLDAvis/files/ldavis.v1.0.0.js\", function(){\n",
       "        new LDAvis(\"#\" + \"ldavis_el240271399165395921609368773724\", ldavis_el240271399165395921609368773724_data);\n",
       "      });\n",
       "    });\n",
       "}else{\n",
       "    // require.js not available: dynamically load d3 & LDAvis\n",
       "    LDAvis_load_lib(\"https://cdnjs.cloudflare.com/ajax/libs/d3/3.5.5/d3.min.js\", function(){\n",
       "         LDAvis_load_lib(\"https://cdn.rawgit.com/bmabey/pyLDAvis/files/ldavis.v1.0.0.js\", function(){\n",
       "                 new LDAvis(\"#\" + \"ldavis_el240271399165395921609368773724\", ldavis_el240271399165395921609368773724_data);\n",
       "            })\n",
       "         });\n",
       "}\n",
       "</script>"
      ],
      "text/plain": [
       "PreparedData(topic_coordinates=                x           y  topics  cluster       Freq\n",
       "topic                                                    \n",
       "1      150.222153  -72.269554       1        1  24.294249\n",
       "0       51.163364 -159.968018       2        1  20.473275\n",
       "3      -73.144554   21.523815       3        1  19.718617\n",
       "2      -66.410133 -110.606438       4        1  18.668379\n",
       "4       54.417324   12.443444       5        1  16.845480, topic_info=            Term          Freq         Total Category  logprob  loglift\n",
       "10991  plaintiff  44798.000000  44798.000000  Default  30.0000  30.0000\n",
       "4046   defendant  40654.000000  40654.000000  Default  29.0000  29.0000\n",
       "3677         crl  42973.000000  42973.000000  Default  28.0000  28.0000\n",
       "7700     justice  68030.000000  68030.000000  Default  27.0000  27.0000\n",
       "6628      honble  58049.000000  58049.000000  Default  26.0000  26.0000\n",
       "...          ...           ...           ...      ...      ...      ...\n",
       "8409     learned   7615.572038  49519.879725   Topic5  -4.7849  -0.0911\n",
       "15321      today   5781.361955  16342.471900   Topic5  -5.0605   0.7420\n",
       "10356      order   6015.028909  42286.513980   Topic5  -5.0208  -0.1691\n",
       "11312    present   6024.165729  57181.940330   Topic5  -5.0193  -0.4694\n",
       "14037      singh   5764.809420  37168.307668   Topic5  -5.0633  -0.0826\n",
       "\n",
       "[372 rows x 6 columns], token_table=       Topic      Freq         Term\n",
       "term                               \n",
       "182        3  0.915029      accepts\n",
       "182        4  0.033373      accepts\n",
       "182        5  0.051564      accepts\n",
       "203        1  0.673975  accordingly\n",
       "203        3  0.117811  accordingly\n",
       "...      ...       ...          ...\n",
       "16492      5  0.999162        xxxix\n",
       "16538      1  0.999360         year\n",
       "16540      1  0.999661        years\n",
       "16542      4  0.998796       yeeshu\n",
       "16613      4  0.998174       zubeda\n",
       "\n",
       "[625 rows x 3 columns], R=30, lambda_step=0.01, plot_opts={'xlab': 'PC1', 'ylab': 'PC2'}, topic_order=[2, 1, 4, 3, 5])"
      ]
     },
     "execution_count": 71,
     "metadata": {},
     "output_type": "execute_result"
    }
   ],
   "source": [
    "pyLDAvis.enable_notebook()\n",
    "dash = pyLDAvis.sklearn.prepare(lda, data_vectorized, vectorizer, mds='tsne')\n",
    "dash"
   ]
  },
  {
   "cell_type": "code",
   "execution_count": null,
   "metadata": {},
   "outputs": [],
   "source": []
  }
 ],
 "metadata": {
  "kernelspec": {
   "display_name": "Python 3",
   "language": "python",
   "name": "python3"
  },
  "language_info": {
   "codemirror_mode": {
    "name": "ipython",
    "version": 3
   },
   "file_extension": ".py",
   "mimetype": "text/x-python",
   "name": "python",
   "nbconvert_exporter": "python",
   "pygments_lexer": "ipython3",
   "version": "3.6.9"
  }
 },
 "nbformat": 4,
 "nbformat_minor": 4
}
